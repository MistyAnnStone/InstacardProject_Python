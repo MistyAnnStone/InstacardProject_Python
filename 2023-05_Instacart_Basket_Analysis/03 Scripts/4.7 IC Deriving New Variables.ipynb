{
 "cells": [
  {
   "cell_type": "markdown",
   "id": "02e39c40",
   "metadata": {},
   "source": [
    "# IC Deriving New Variables"
   ]
  },
  {
   "cell_type": "markdown",
   "id": "02b734fa",
   "metadata": {},
   "source": [
    "### This script contains the following points: <br> <br> \n",
    "1. Importing Libraries <br> <br> \n",
    "2. Importing Data Sets <br> <br> \n",
    "3. Data Checks <br> <br>\n",
    "4. User-defined functions <br>\n",
    " > 04.01 price_range_loc<br>\n",
    " > 04.02 busiest_day<br>\n",
    " > 04.03 Busiest_days: Two busiest days and two slowest days<br>\n",
    " > 04.04 busiest_period_of_day<br>\n",
    "5. Exporting data\n"
   ]
  },
  {
   "cell_type": "markdown",
   "id": "4fe4a6f8",
   "metadata": {},
   "source": [
    "## 01 Import Libraries"
   ]
  },
  {
   "cell_type": "code",
   "execution_count": 1,
   "id": "86a214c9",
   "metadata": {},
   "outputs": [],
   "source": [
    "# Import Libraries\n",
    "import pandas as pd\n",
    "import numpy as np\n",
    "import os"
   ]
  },
  {
   "cell_type": "markdown",
   "id": "dfd1333b",
   "metadata": {},
   "source": [
    "## 02 Import Data"
   ]
  },
  {
   "cell_type": "code",
   "execution_count": 2,
   "id": "9c224ca6",
   "metadata": {},
   "outputs": [],
   "source": [
    "# First create a string of the path for the main project folder\n",
    "path = r'/Users/mistystone/Library/CloudStorage/OneDrive-Personal/Documents/CF_Data_Ach4_Python/2023-05_Instacart_Basket_Analysis/'"
   ]
  },
  {
   "cell_type": "code",
   "execution_count": 3,
   "id": "f9971047",
   "metadata": {},
   "outputs": [],
   "source": [
    "df_ords_prods_merged = pd.read_pickle(os.path.join(path, '02 Data','Prepared Data','orders_products_merged.pkl')) "
   ]
  },
  {
   "cell_type": "markdown",
   "id": "6a9d271c",
   "metadata": {},
   "source": [
    "## 03 Data Checks"
   ]
  },
  {
   "cell_type": "code",
   "execution_count": 4,
   "id": "2799a982",
   "metadata": {
    "scrolled": true
   },
   "outputs": [
    {
     "data": {
      "text/html": [
       "<div>\n",
       "<style scoped>\n",
       "    .dataframe tbody tr th:only-of-type {\n",
       "        vertical-align: middle;\n",
       "    }\n",
       "\n",
       "    .dataframe tbody tr th {\n",
       "        vertical-align: top;\n",
       "    }\n",
       "\n",
       "    .dataframe thead th {\n",
       "        text-align: right;\n",
       "    }\n",
       "</style>\n",
       "<table border=\"1\" class=\"dataframe\">\n",
       "  <thead>\n",
       "    <tr style=\"text-align: right;\">\n",
       "      <th></th>\n",
       "      <th>order_id</th>\n",
       "      <th>user_id</th>\n",
       "      <th>order_number</th>\n",
       "      <th>order_day_of_week</th>\n",
       "      <th>order_hour_of_day</th>\n",
       "      <th>days_since_prior_order</th>\n",
       "      <th>product_id</th>\n",
       "      <th>add_to_cart_order</th>\n",
       "      <th>reordered</th>\n",
       "      <th>product_name</th>\n",
       "      <th>aisle_id</th>\n",
       "      <th>department_id</th>\n",
       "      <th>prices</th>\n",
       "    </tr>\n",
       "  </thead>\n",
       "  <tbody>\n",
       "    <tr>\n",
       "      <th>0</th>\n",
       "      <td>2539329</td>\n",
       "      <td>1</td>\n",
       "      <td>1</td>\n",
       "      <td>2</td>\n",
       "      <td>8</td>\n",
       "      <td>7.0</td>\n",
       "      <td>196</td>\n",
       "      <td>1</td>\n",
       "      <td>0</td>\n",
       "      <td>Soda</td>\n",
       "      <td>77</td>\n",
       "      <td>7</td>\n",
       "      <td>9.0</td>\n",
       "    </tr>\n",
       "    <tr>\n",
       "      <th>1</th>\n",
       "      <td>2398795</td>\n",
       "      <td>1</td>\n",
       "      <td>2</td>\n",
       "      <td>3</td>\n",
       "      <td>7</td>\n",
       "      <td>15.0</td>\n",
       "      <td>196</td>\n",
       "      <td>1</td>\n",
       "      <td>1</td>\n",
       "      <td>Soda</td>\n",
       "      <td>77</td>\n",
       "      <td>7</td>\n",
       "      <td>9.0</td>\n",
       "    </tr>\n",
       "    <tr>\n",
       "      <th>2</th>\n",
       "      <td>473747</td>\n",
       "      <td>1</td>\n",
       "      <td>3</td>\n",
       "      <td>3</td>\n",
       "      <td>12</td>\n",
       "      <td>21.0</td>\n",
       "      <td>196</td>\n",
       "      <td>1</td>\n",
       "      <td>1</td>\n",
       "      <td>Soda</td>\n",
       "      <td>77</td>\n",
       "      <td>7</td>\n",
       "      <td>9.0</td>\n",
       "    </tr>\n",
       "    <tr>\n",
       "      <th>3</th>\n",
       "      <td>2254736</td>\n",
       "      <td>1</td>\n",
       "      <td>4</td>\n",
       "      <td>4</td>\n",
       "      <td>7</td>\n",
       "      <td>29.0</td>\n",
       "      <td>196</td>\n",
       "      <td>1</td>\n",
       "      <td>1</td>\n",
       "      <td>Soda</td>\n",
       "      <td>77</td>\n",
       "      <td>7</td>\n",
       "      <td>9.0</td>\n",
       "    </tr>\n",
       "    <tr>\n",
       "      <th>4</th>\n",
       "      <td>431534</td>\n",
       "      <td>1</td>\n",
       "      <td>5</td>\n",
       "      <td>4</td>\n",
       "      <td>15</td>\n",
       "      <td>28.0</td>\n",
       "      <td>196</td>\n",
       "      <td>1</td>\n",
       "      <td>1</td>\n",
       "      <td>Soda</td>\n",
       "      <td>77</td>\n",
       "      <td>7</td>\n",
       "      <td>9.0</td>\n",
       "    </tr>\n",
       "  </tbody>\n",
       "</table>\n",
       "</div>"
      ],
      "text/plain": [
       "   order_id  user_id  order_number  order_day_of_week  order_hour_of_day  \\\n",
       "0   2539329        1             1                  2                  8   \n",
       "1   2398795        1             2                  3                  7   \n",
       "2    473747        1             3                  3                 12   \n",
       "3   2254736        1             4                  4                  7   \n",
       "4    431534        1             5                  4                 15   \n",
       "\n",
       "   days_since_prior_order  product_id  add_to_cart_order  reordered  \\\n",
       "0                     7.0         196                  1          0   \n",
       "1                    15.0         196                  1          1   \n",
       "2                    21.0         196                  1          1   \n",
       "3                    29.0         196                  1          1   \n",
       "4                    28.0         196                  1          1   \n",
       "\n",
       "  product_name  aisle_id  department_id  prices  \n",
       "0         Soda        77              7     9.0  \n",
       "1         Soda        77              7     9.0  \n",
       "2         Soda        77              7     9.0  \n",
       "3         Soda        77              7     9.0  \n",
       "4         Soda        77              7     9.0  "
      ]
     },
     "execution_count": 4,
     "metadata": {},
     "output_type": "execute_result"
    }
   ],
   "source": [
    "# df_ords_prods_merged head\n",
    "df_ords_prods_merged.head()"
   ]
  },
  {
   "cell_type": "code",
   "execution_count": 5,
   "id": "5f669e1c",
   "metadata": {},
   "outputs": [
    {
     "data": {
      "text/plain": [
       "(32404859, 13)"
      ]
     },
     "execution_count": 5,
     "metadata": {},
     "output_type": "execute_result"
    }
   ],
   "source": [
    "# df_ords_prods_merged shape\n",
    "df_ords_prods_merged.shape"
   ]
  },
  {
   "cell_type": "code",
   "execution_count": 6,
   "id": "9799f8b0",
   "metadata": {},
   "outputs": [
    {
     "data": {
      "text/html": [
       "<div>\n",
       "<style scoped>\n",
       "    .dataframe tbody tr th:only-of-type {\n",
       "        vertical-align: middle;\n",
       "    }\n",
       "\n",
       "    .dataframe tbody tr th {\n",
       "        vertical-align: top;\n",
       "    }\n",
       "\n",
       "    .dataframe thead th {\n",
       "        text-align: right;\n",
       "    }\n",
       "</style>\n",
       "<table border=\"1\" class=\"dataframe\">\n",
       "  <thead>\n",
       "    <tr style=\"text-align: right;\">\n",
       "      <th></th>\n",
       "      <th>order_id</th>\n",
       "      <th>user_id</th>\n",
       "      <th>order_number</th>\n",
       "      <th>order_day_of_week</th>\n",
       "      <th>order_hour_of_day</th>\n",
       "      <th>days_since_prior_order</th>\n",
       "      <th>product_id</th>\n",
       "      <th>add_to_cart_order</th>\n",
       "      <th>reordered</th>\n",
       "      <th>aisle_id</th>\n",
       "      <th>department_id</th>\n",
       "      <th>prices</th>\n",
       "    </tr>\n",
       "  </thead>\n",
       "  <tbody>\n",
       "    <tr>\n",
       "      <th>count</th>\n",
       "      <td>3.240486e+07</td>\n",
       "      <td>3.240486e+07</td>\n",
       "      <td>3.240486e+07</td>\n",
       "      <td>3.240486e+07</td>\n",
       "      <td>3.240486e+07</td>\n",
       "      <td>3.240486e+07</td>\n",
       "      <td>3.240486e+07</td>\n",
       "      <td>3.240486e+07</td>\n",
       "      <td>3.240486e+07</td>\n",
       "      <td>3.240486e+07</td>\n",
       "      <td>3.240486e+07</td>\n",
       "      <td>3.239973e+07</td>\n",
       "    </tr>\n",
       "    <tr>\n",
       "      <th>mean</th>\n",
       "      <td>1.710745e+06</td>\n",
       "      <td>1.029372e+05</td>\n",
       "      <td>1.714230e+01</td>\n",
       "      <td>2.738867e+00</td>\n",
       "      <td>1.342515e+01</td>\n",
       "      <td>1.084114e+01</td>\n",
       "      <td>2.559866e+04</td>\n",
       "      <td>8.352547e+00</td>\n",
       "      <td>5.895873e-01</td>\n",
       "      <td>7.119612e+01</td>\n",
       "      <td>9.919792e+00</td>\n",
       "      <td>7.790994e+00</td>\n",
       "    </tr>\n",
       "    <tr>\n",
       "      <th>std</th>\n",
       "      <td>9.872988e+05</td>\n",
       "      <td>5.946610e+04</td>\n",
       "      <td>1.753532e+01</td>\n",
       "      <td>2.090077e+00</td>\n",
       "      <td>4.246380e+00</td>\n",
       "      <td>8.552435e+00</td>\n",
       "      <td>1.408400e+04</td>\n",
       "      <td>7.127071e+00</td>\n",
       "      <td>4.919087e-01</td>\n",
       "      <td>3.821139e+01</td>\n",
       "      <td>6.281485e+00</td>\n",
       "      <td>4.241809e+00</td>\n",
       "    </tr>\n",
       "    <tr>\n",
       "      <th>min</th>\n",
       "      <td>2.000000e+00</td>\n",
       "      <td>1.000000e+00</td>\n",
       "      <td>1.000000e+00</td>\n",
       "      <td>0.000000e+00</td>\n",
       "      <td>0.000000e+00</td>\n",
       "      <td>0.000000e+00</td>\n",
       "      <td>1.000000e+00</td>\n",
       "      <td>1.000000e+00</td>\n",
       "      <td>0.000000e+00</td>\n",
       "      <td>1.000000e+00</td>\n",
       "      <td>1.000000e+00</td>\n",
       "      <td>1.000000e+00</td>\n",
       "    </tr>\n",
       "    <tr>\n",
       "      <th>25%</th>\n",
       "      <td>8.559470e+05</td>\n",
       "      <td>5.142200e+04</td>\n",
       "      <td>5.000000e+00</td>\n",
       "      <td>1.000000e+00</td>\n",
       "      <td>1.000000e+01</td>\n",
       "      <td>5.000000e+00</td>\n",
       "      <td>1.354400e+04</td>\n",
       "      <td>3.000000e+00</td>\n",
       "      <td>0.000000e+00</td>\n",
       "      <td>3.100000e+01</td>\n",
       "      <td>4.000000e+00</td>\n",
       "      <td>4.200000e+00</td>\n",
       "    </tr>\n",
       "    <tr>\n",
       "      <th>50%</th>\n",
       "      <td>1.711049e+06</td>\n",
       "      <td>1.026160e+05</td>\n",
       "      <td>1.100000e+01</td>\n",
       "      <td>3.000000e+00</td>\n",
       "      <td>1.300000e+01</td>\n",
       "      <td>7.000000e+00</td>\n",
       "      <td>2.530200e+04</td>\n",
       "      <td>6.000000e+00</td>\n",
       "      <td>1.000000e+00</td>\n",
       "      <td>8.300000e+01</td>\n",
       "      <td>9.000000e+00</td>\n",
       "      <td>7.400000e+00</td>\n",
       "    </tr>\n",
       "    <tr>\n",
       "      <th>75%</th>\n",
       "      <td>2.565499e+06</td>\n",
       "      <td>1.543890e+05</td>\n",
       "      <td>2.400000e+01</td>\n",
       "      <td>5.000000e+00</td>\n",
       "      <td>1.600000e+01</td>\n",
       "      <td>1.400000e+01</td>\n",
       "      <td>3.794700e+04</td>\n",
       "      <td>1.100000e+01</td>\n",
       "      <td>1.000000e+00</td>\n",
       "      <td>1.070000e+02</td>\n",
       "      <td>1.600000e+01</td>\n",
       "      <td>1.130000e+01</td>\n",
       "    </tr>\n",
       "    <tr>\n",
       "      <th>max</th>\n",
       "      <td>3.421083e+06</td>\n",
       "      <td>2.062090e+05</td>\n",
       "      <td>9.900000e+01</td>\n",
       "      <td>6.000000e+00</td>\n",
       "      <td>2.300000e+01</td>\n",
       "      <td>3.000000e+01</td>\n",
       "      <td>4.968800e+04</td>\n",
       "      <td>1.450000e+02</td>\n",
       "      <td>1.000000e+00</td>\n",
       "      <td>1.340000e+02</td>\n",
       "      <td>2.100000e+01</td>\n",
       "      <td>2.500000e+01</td>\n",
       "    </tr>\n",
       "  </tbody>\n",
       "</table>\n",
       "</div>"
      ],
      "text/plain": [
       "           order_id       user_id  order_number  order_day_of_week  \\\n",
       "count  3.240486e+07  3.240486e+07  3.240486e+07       3.240486e+07   \n",
       "mean   1.710745e+06  1.029372e+05  1.714230e+01       2.738867e+00   \n",
       "std    9.872988e+05  5.946610e+04  1.753532e+01       2.090077e+00   \n",
       "min    2.000000e+00  1.000000e+00  1.000000e+00       0.000000e+00   \n",
       "25%    8.559470e+05  5.142200e+04  5.000000e+00       1.000000e+00   \n",
       "50%    1.711049e+06  1.026160e+05  1.100000e+01       3.000000e+00   \n",
       "75%    2.565499e+06  1.543890e+05  2.400000e+01       5.000000e+00   \n",
       "max    3.421083e+06  2.062090e+05  9.900000e+01       6.000000e+00   \n",
       "\n",
       "       order_hour_of_day  days_since_prior_order    product_id  \\\n",
       "count       3.240486e+07            3.240486e+07  3.240486e+07   \n",
       "mean        1.342515e+01            1.084114e+01  2.559866e+04   \n",
       "std         4.246380e+00            8.552435e+00  1.408400e+04   \n",
       "min         0.000000e+00            0.000000e+00  1.000000e+00   \n",
       "25%         1.000000e+01            5.000000e+00  1.354400e+04   \n",
       "50%         1.300000e+01            7.000000e+00  2.530200e+04   \n",
       "75%         1.600000e+01            1.400000e+01  3.794700e+04   \n",
       "max         2.300000e+01            3.000000e+01  4.968800e+04   \n",
       "\n",
       "       add_to_cart_order     reordered      aisle_id  department_id  \\\n",
       "count       3.240486e+07  3.240486e+07  3.240486e+07   3.240486e+07   \n",
       "mean        8.352547e+00  5.895873e-01  7.119612e+01   9.919792e+00   \n",
       "std         7.127071e+00  4.919087e-01  3.821139e+01   6.281485e+00   \n",
       "min         1.000000e+00  0.000000e+00  1.000000e+00   1.000000e+00   \n",
       "25%         3.000000e+00  0.000000e+00  3.100000e+01   4.000000e+00   \n",
       "50%         6.000000e+00  1.000000e+00  8.300000e+01   9.000000e+00   \n",
       "75%         1.100000e+01  1.000000e+00  1.070000e+02   1.600000e+01   \n",
       "max         1.450000e+02  1.000000e+00  1.340000e+02   2.100000e+01   \n",
       "\n",
       "             prices  \n",
       "count  3.239973e+07  \n",
       "mean   7.790994e+00  \n",
       "std    4.241809e+00  \n",
       "min    1.000000e+00  \n",
       "25%    4.200000e+00  \n",
       "50%    7.400000e+00  \n",
       "75%    1.130000e+01  \n",
       "max    2.500000e+01  "
      ]
     },
     "execution_count": 6,
     "metadata": {},
     "output_type": "execute_result"
    }
   ],
   "source": [
    "# df_ords_prods_merged descriptive statistics\n",
    "df_ords_prods_merged.describe()"
   ]
  },
  {
   "cell_type": "markdown",
   "id": "2108986f",
   "metadata": {},
   "source": [
    "## 04 User-defined functions"
   ]
  },
  {
   "cell_type": "markdown",
   "id": "6d841ec3",
   "metadata": {},
   "source": [
    "### 04.01 price_range_loc"
   ]
  },
  {
   "cell_type": "code",
   "execution_count": 7,
   "id": "43ece5d4",
   "metadata": {
    "scrolled": true
   },
   "outputs": [],
   "source": [
    "# High-range product\n",
    "df_ords_prods_merged.loc[df_ords_prods_merged['prices'] > 15, 'price_range_loc'] = 'High-range poduct'"
   ]
  },
  {
   "cell_type": "code",
   "execution_count": 8,
   "id": "767756a4",
   "metadata": {},
   "outputs": [],
   "source": [
    "# Mid-range product\n",
    "df_ords_prods_merged.loc[(df_ords_prods_merged['prices'] <= 15) & (df_ords_prods_merged['prices'] > 5), 'price_range_loc'] = 'Mid-range product'"
   ]
  },
  {
   "cell_type": "code",
   "execution_count": 9,
   "id": "6c683061",
   "metadata": {},
   "outputs": [],
   "source": [
    "# Low-range product\n",
    "df_ords_prods_merged.loc[df_ords_prods_merged['prices'] <= 5, 'price_range_loc'] = 'Low-range product'"
   ]
  },
  {
   "cell_type": "code",
   "execution_count": 10,
   "id": "11a09069",
   "metadata": {},
   "outputs": [
    {
     "data": {
      "text/plain": [
       "Mid-range product    21860860\n",
       "Low-range product    10126321\n",
       "High-range poduct      412551\n",
       "NaN                      5127\n",
       "Name: price_range_loc, dtype: int64"
      ]
     },
     "execution_count": 10,
     "metadata": {},
     "output_type": "execute_result"
    }
   ],
   "source": [
    "df_ords_prods_merged['price_range_loc'].value_counts(dropna = False)"
   ]
  },
  {
   "cell_type": "markdown",
   "id": "4f4cd736",
   "metadata": {},
   "source": [
    "### 04.02 busiest_day"
   ]
  },
  {
   "cell_type": "code",
   "execution_count": 11,
   "id": "6dc1830e",
   "metadata": {},
   "outputs": [
    {
     "data": {
      "text/plain": [
       "0    6204182\n",
       "1    5660230\n",
       "6    4496490\n",
       "2    4213830\n",
       "5    4205791\n",
       "3    3840534\n",
       "4    3783802\n",
       "Name: order_day_of_week, dtype: int64"
      ]
     },
     "execution_count": 11,
     "metadata": {},
     "output_type": "execute_result"
    }
   ],
   "source": [
    "# On which day do most orders take place?\n",
    "df_ords_prods_merged['order_day_of_week'].value_counts(dropna = False)"
   ]
  },
  {
   "cell_type": "markdown",
   "id": "8d27142a",
   "metadata": {},
   "source": [
    "Day 0 means Saturday, which is the most popular day to place orders. Day 4 means Wednesday, which is the least popular day to place orders."
   ]
  },
  {
   "cell_type": "code",
   "execution_count": 12,
   "id": "433dc9e9",
   "metadata": {},
   "outputs": [],
   "source": [
    "# Create a new column with 'Busiest day', 'Least busy', and 'Regular busy'\n",
    "\n",
    "result = []  # creates empty list named result\n",
    "\n",
    "for value in df_ords_prods_merged[\"order_day_of_week\"]:\n",
    "  if value == 0:  # The term value is a placeholder. It could be anything, and is commonly called x. \n",
    "    result.append(\"Busiest day\")\n",
    "  elif value == 4:\n",
    "    result.append(\"Least busy\")\n",
    "  else:\n",
    "    result.append(\"Regularly busy\")"
   ]
  },
  {
   "cell_type": "code",
   "execution_count": 13,
   "id": "cd435991",
   "metadata": {},
   "outputs": [],
   "source": [
    "# Add the result column to the df_ords_prods_merged dataframe.\n",
    "# Create a new column within the df_ords_prods_merged dataframe and set it equal to result.\n",
    "df_ords_prods_merged['busiest_day'] = result"
   ]
  },
  {
   "cell_type": "code",
   "execution_count": 14,
   "id": "b66dbdf9",
   "metadata": {
    "scrolled": true
   },
   "outputs": [
    {
     "data": {
      "text/plain": [
       "Regularly busy    22416875\n",
       "Busiest day        6204182\n",
       "Least busy         3783802\n",
       "Name: busiest_day, dtype: int64"
      ]
     },
     "execution_count": 14,
     "metadata": {},
     "output_type": "execute_result"
    }
   ],
   "source": [
    "# Check busiest_day frequencies\n",
    "df_ords_prods_merged['busiest_day'].value_counts(dropna = False)"
   ]
  },
  {
   "cell_type": "code",
   "execution_count": 15,
   "id": "4a2db1af",
   "metadata": {},
   "outputs": [
    {
     "data": {
      "text/html": [
       "<div>\n",
       "<style scoped>\n",
       "    .dataframe tbody tr th:only-of-type {\n",
       "        vertical-align: middle;\n",
       "    }\n",
       "\n",
       "    .dataframe tbody tr th {\n",
       "        vertical-align: top;\n",
       "    }\n",
       "\n",
       "    .dataframe thead th {\n",
       "        text-align: right;\n",
       "    }\n",
       "</style>\n",
       "<table border=\"1\" class=\"dataframe\">\n",
       "  <thead>\n",
       "    <tr style=\"text-align: right;\">\n",
       "      <th></th>\n",
       "      <th>order_id</th>\n",
       "      <th>user_id</th>\n",
       "      <th>order_number</th>\n",
       "      <th>order_day_of_week</th>\n",
       "      <th>order_hour_of_day</th>\n",
       "      <th>days_since_prior_order</th>\n",
       "      <th>product_id</th>\n",
       "      <th>add_to_cart_order</th>\n",
       "      <th>reordered</th>\n",
       "      <th>product_name</th>\n",
       "      <th>aisle_id</th>\n",
       "      <th>department_id</th>\n",
       "      <th>prices</th>\n",
       "      <th>price_range_loc</th>\n",
       "      <th>busiest_day</th>\n",
       "    </tr>\n",
       "  </thead>\n",
       "  <tbody>\n",
       "    <tr>\n",
       "      <th>0</th>\n",
       "      <td>2539329</td>\n",
       "      <td>1</td>\n",
       "      <td>1</td>\n",
       "      <td>2</td>\n",
       "      <td>8</td>\n",
       "      <td>7.0</td>\n",
       "      <td>196</td>\n",
       "      <td>1</td>\n",
       "      <td>0</td>\n",
       "      <td>Soda</td>\n",
       "      <td>77</td>\n",
       "      <td>7</td>\n",
       "      <td>9.0</td>\n",
       "      <td>Mid-range product</td>\n",
       "      <td>Regularly busy</td>\n",
       "    </tr>\n",
       "    <tr>\n",
       "      <th>1</th>\n",
       "      <td>2398795</td>\n",
       "      <td>1</td>\n",
       "      <td>2</td>\n",
       "      <td>3</td>\n",
       "      <td>7</td>\n",
       "      <td>15.0</td>\n",
       "      <td>196</td>\n",
       "      <td>1</td>\n",
       "      <td>1</td>\n",
       "      <td>Soda</td>\n",
       "      <td>77</td>\n",
       "      <td>7</td>\n",
       "      <td>9.0</td>\n",
       "      <td>Mid-range product</td>\n",
       "      <td>Regularly busy</td>\n",
       "    </tr>\n",
       "    <tr>\n",
       "      <th>2</th>\n",
       "      <td>473747</td>\n",
       "      <td>1</td>\n",
       "      <td>3</td>\n",
       "      <td>3</td>\n",
       "      <td>12</td>\n",
       "      <td>21.0</td>\n",
       "      <td>196</td>\n",
       "      <td>1</td>\n",
       "      <td>1</td>\n",
       "      <td>Soda</td>\n",
       "      <td>77</td>\n",
       "      <td>7</td>\n",
       "      <td>9.0</td>\n",
       "      <td>Mid-range product</td>\n",
       "      <td>Regularly busy</td>\n",
       "    </tr>\n",
       "    <tr>\n",
       "      <th>3</th>\n",
       "      <td>2254736</td>\n",
       "      <td>1</td>\n",
       "      <td>4</td>\n",
       "      <td>4</td>\n",
       "      <td>7</td>\n",
       "      <td>29.0</td>\n",
       "      <td>196</td>\n",
       "      <td>1</td>\n",
       "      <td>1</td>\n",
       "      <td>Soda</td>\n",
       "      <td>77</td>\n",
       "      <td>7</td>\n",
       "      <td>9.0</td>\n",
       "      <td>Mid-range product</td>\n",
       "      <td>Least busy</td>\n",
       "    </tr>\n",
       "    <tr>\n",
       "      <th>4</th>\n",
       "      <td>431534</td>\n",
       "      <td>1</td>\n",
       "      <td>5</td>\n",
       "      <td>4</td>\n",
       "      <td>15</td>\n",
       "      <td>28.0</td>\n",
       "      <td>196</td>\n",
       "      <td>1</td>\n",
       "      <td>1</td>\n",
       "      <td>Soda</td>\n",
       "      <td>77</td>\n",
       "      <td>7</td>\n",
       "      <td>9.0</td>\n",
       "      <td>Mid-range product</td>\n",
       "      <td>Least busy</td>\n",
       "    </tr>\n",
       "  </tbody>\n",
       "</table>\n",
       "</div>"
      ],
      "text/plain": [
       "   order_id  user_id  order_number  order_day_of_week  order_hour_of_day  \\\n",
       "0   2539329        1             1                  2                  8   \n",
       "1   2398795        1             2                  3                  7   \n",
       "2    473747        1             3                  3                 12   \n",
       "3   2254736        1             4                  4                  7   \n",
       "4    431534        1             5                  4                 15   \n",
       "\n",
       "   days_since_prior_order  product_id  add_to_cart_order  reordered  \\\n",
       "0                     7.0         196                  1          0   \n",
       "1                    15.0         196                  1          1   \n",
       "2                    21.0         196                  1          1   \n",
       "3                    29.0         196                  1          1   \n",
       "4                    28.0         196                  1          1   \n",
       "\n",
       "  product_name  aisle_id  department_id  prices    price_range_loc  \\\n",
       "0         Soda        77              7     9.0  Mid-range product   \n",
       "1         Soda        77              7     9.0  Mid-range product   \n",
       "2         Soda        77              7     9.0  Mid-range product   \n",
       "3         Soda        77              7     9.0  Mid-range product   \n",
       "4         Soda        77              7     9.0  Mid-range product   \n",
       "\n",
       "      busiest_day  \n",
       "0  Regularly busy  \n",
       "1  Regularly busy  \n",
       "2  Regularly busy  \n",
       "3      Least busy  \n",
       "4      Least busy  "
      ]
     },
     "execution_count": 15,
     "metadata": {},
     "output_type": "execute_result"
    }
   ],
   "source": [
    "# df_ords_prods_merged head\n",
    "df_ords_prods_merged.head()"
   ]
  },
  {
   "cell_type": "markdown",
   "id": "9585d512",
   "metadata": {},
   "source": [
    "### 04.03 Busiest_days: Two busiest days and two slowest days"
   ]
  },
  {
   "cell_type": "code",
   "execution_count": 16,
   "id": "c2008c90",
   "metadata": {},
   "outputs": [],
   "source": [
    "# Create a new column with 'Busiest day', 'Least busy', and 'Regular busy'\n",
    "\n",
    "result = []  # creates empty list named result\n",
    "\n",
    "for value in df_ords_prods_merged[\"order_day_of_week\"]:\n",
    "  if value in [0,1]:  # The term value is a placeholder. It could be anything, and is commonly called x. \n",
    "    result.append(\"Busiest day\")\n",
    "  elif value in[3,4]:\n",
    "    result.append(\"Least busy\")\n",
    "  else:\n",
    "    result.append(\"Regular busy\")"
   ]
  },
  {
   "cell_type": "code",
   "execution_count": 17,
   "id": "e0a24b66",
   "metadata": {},
   "outputs": [],
   "source": [
    "# Add the result column to the df_ords_prods_merged dataframe.\n",
    "# Create a new column within the df_ords_prods_merged dataframe and set it equal to result.\n",
    "df_ords_prods_merged['Busiest_days'] = result"
   ]
  },
  {
   "cell_type": "code",
   "execution_count": 18,
   "id": "d120fd48",
   "metadata": {},
   "outputs": [
    {
     "data": {
      "text/plain": [
       "Regular busy    12916111\n",
       "Busiest day     11864412\n",
       "Least busy       7624336\n",
       "Name: Busiest_days, dtype: int64"
      ]
     },
     "execution_count": 18,
     "metadata": {},
     "output_type": "execute_result"
    }
   ],
   "source": [
    "# Check counts\n",
    "df_ords_prods_merged['Busiest_days'].value_counts(dropna = False)"
   ]
  },
  {
   "cell_type": "markdown",
   "id": "4c5b842d",
   "metadata": {},
   "source": [
    "There are fewer regular busy days, approx 13 million from 22 million.\n",
    "There are more busiest days, approx 11 million from 6 million.\n",
    "There are more least busy days, approx 8 million from 4 million. \n",
    "Nonetheless, the number of regular busy days is still the highest and the number of least busy days is still the lowest."
   ]
  },
  {
   "cell_type": "markdown",
   "id": "46460f17",
   "metadata": {},
   "source": [
    "### 04.04 busiest_period_of_day"
   ]
  },
  {
   "cell_type": "code",
   "execution_count": 19,
   "id": "0ad99b0d",
   "metadata": {
    "scrolled": false
   },
   "outputs": [
    {
     "data": {
      "text/plain": [
       "10    2761760\n",
       "11    2736140\n",
       "14    2689136\n",
       "15    2662144\n",
       "13    2660954\n",
       "12    2618532\n",
       "16    2535202\n",
       "9     2454203\n",
       "17    2087654\n",
       "8     1718118\n",
       "18    1636502\n",
       "19    1258305\n",
       "20     976156\n",
       "7      891054\n",
       "21     795637\n",
       "22     634225\n",
       "23     402316\n",
       "6      290493\n",
       "0      218769\n",
       "1      115700\n",
       "5       87961\n",
       "2       69375\n",
       "4       53242\n",
       "3       51281\n",
       "Name: order_hour_of_day, dtype: int64"
      ]
     },
     "execution_count": 19,
     "metadata": {},
     "output_type": "execute_result"
    }
   ],
   "source": [
    "df_ords_prods_merged['order_hour_of_day'].value_counts(dropna = False)"
   ]
  },
  {
   "cell_type": "markdown",
   "id": "fc577fdc",
   "metadata": {},
   "source": [
    "I am going to define the hours of 10, 11, 12, 13, 14, 15, and 16 as the 'Most orders'.\n",
    "I am going to define the hours of 0, 1, 2, 3, 4, 5, and 6 as the 'Fewest orders'.\n",
    "I am going to define the hours of 6, 7, 8, 9, as well as 17, 18, 19, 20, 21, 22, 23 as 'Average orders.'"
   ]
  },
  {
   "cell_type": "code",
   "execution_count": 20,
   "id": "57615981",
   "metadata": {},
   "outputs": [],
   "source": [
    "# Create a new column with 'Most orders', 'Average orders', and 'Fewest orders'\n",
    "\n",
    "result = []  # creates empty list named result\n",
    "\n",
    "for value in df_ords_prods_merged[\"order_hour_of_day\"]:\n",
    "  if value in [10,11,12,13,14,15,16]:  \n",
    "    result.append(\"Most orders\")\n",
    "  elif value in[0,1,2,3,4,5,6]:\n",
    "    result.append(\"Fewest orders\")\n",
    "  else:\n",
    "    result.append(\"Average orders\")"
   ]
  },
  {
   "cell_type": "code",
   "execution_count": 21,
   "id": "e91f4cb3",
   "metadata": {},
   "outputs": [],
   "source": [
    "# Add the result column to the df_ords_prods_merged dataframe.\n",
    "# Create a new column within the df_ords_prods_merged dataframe and set it equal to result.\n",
    "df_ords_prods_merged['busiest_period_of_day'] = result"
   ]
  },
  {
   "cell_type": "code",
   "execution_count": 22,
   "id": "773c86d1",
   "metadata": {},
   "outputs": [
    {
     "data": {
      "text/plain": [
       "Most orders       18663868\n",
       "Average orders    12854170\n",
       "Fewest orders       886821\n",
       "Name: busiest_period_of_day, dtype: int64"
      ]
     },
     "execution_count": 22,
     "metadata": {},
     "output_type": "execute_result"
    }
   ],
   "source": [
    "# Check counts\n",
    "df_ords_prods_merged['busiest_period_of_day'].value_counts(dropna = False)"
   ]
  },
  {
   "cell_type": "markdown",
   "id": "4d9a4f14",
   "metadata": {},
   "source": [
    "# 05 Exporting data"
   ]
  },
  {
   "cell_type": "code",
   "execution_count": 23,
   "id": "e8f6a314",
   "metadata": {},
   "outputs": [],
   "source": [
    "# Export data in Pickle format\n",
    "df_ords_prods_merged.to_pickle(os.path.join(path, '02 Data','Prepared Data', 'orders_products_merged.pkl'))"
   ]
  },
  {
   "cell_type": "code",
   "execution_count": null,
   "id": "4c49bdfe",
   "metadata": {},
   "outputs": [],
   "source": []
  }
 ],
 "metadata": {
  "kernelspec": {
   "display_name": "Python 3 (ipykernel)",
   "language": "python",
   "name": "python3"
  },
  "language_info": {
   "codemirror_mode": {
    "name": "ipython",
    "version": 3
   },
   "file_extension": ".py",
   "mimetype": "text/x-python",
   "name": "python",
   "nbconvert_exporter": "python",
   "pygments_lexer": "ipython3",
   "version": "3.10.9"
  }
 },
 "nbformat": 4,
 "nbformat_minor": 5
}
