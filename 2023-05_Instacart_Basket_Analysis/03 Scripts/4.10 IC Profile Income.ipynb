{
 "cells": [
  {
   "cell_type": "markdown",
   "id": "f370a3c2",
   "metadata": {},
   "source": [
    "# 4.10 IC Profile Income"
   ]
  },
  {
   "cell_type": "markdown",
   "id": "9352ba58",
   "metadata": {},
   "source": [
    "### This script contains the following points: <br> <br> \n",
    "1. Importing Libraries <br> <br> \n",
    "2. Importing Data Sets <br> <br> \n",
    "3. Data Checks <br><br>\n",
    "4. Profiling Variable: Income <br>\n",
    " > 04.01 Distribution of Profiles <br>\n",
    " > 04.02 Descriptive Statistics for each profiled segment <br>\n",
    " > 04.03 Relationship with profiles and regions / departments <br>"
   ]
  },
  {
   "cell_type": "markdown",
   "id": "d2b53544",
   "metadata": {},
   "source": [
    "## 01 Import Libraries"
   ]
  },
  {
   "cell_type": "code",
   "execution_count": 1,
   "id": "a2bd6748",
   "metadata": {},
   "outputs": [],
   "source": [
    "# Import Libraries with visualization capabilities\n",
    "import pandas as pd\n",
    "import numpy as np\n",
    "import os\n",
    "import matplotlib.pyplot as plt\n",
    "import seaborn as sns\n",
    "import scipy\n"
   ]
  },
  {
   "cell_type": "markdown",
   "id": "ebdd7b24",
   "metadata": {},
   "source": [
    "## 02 Import Data"
   ]
  },
  {
   "cell_type": "code",
   "execution_count": 2,
   "id": "20794144",
   "metadata": {},
   "outputs": [],
   "source": [
    "# First create a string of the path for the main project folder\n",
    "path = r'/Users/mistystone/Library/CloudStorage/OneDrive-Personal/Documents/CF_Data_Ach4_Python/2023-05_Instacart_Basket_Analysis/'"
   ]
  },
  {
   "cell_type": "code",
   "execution_count": 3,
   "id": "290b87c1",
   "metadata": {},
   "outputs": [],
   "source": [
    "# Import pickle files\n",
    "df = pd.read_pickle(os.path.join(path, '02 Data','Prepared Data','high_activity_customers.pkl')) "
   ]
  },
  {
   "cell_type": "markdown",
   "id": "9dd02f74",
   "metadata": {},
   "source": [
    "## 03 Data Checks"
   ]
  },
  {
   "cell_type": "code",
   "execution_count": 4,
   "id": "35e1ded3",
   "metadata": {
    "scrolled": false
   },
   "outputs": [
    {
     "data": {
      "text/html": [
       "<div>\n",
       "<style scoped>\n",
       "    .dataframe tbody tr th:only-of-type {\n",
       "        vertical-align: middle;\n",
       "    }\n",
       "\n",
       "    .dataframe tbody tr th {\n",
       "        vertical-align: top;\n",
       "    }\n",
       "\n",
       "    .dataframe thead th {\n",
       "        text-align: right;\n",
       "    }\n",
       "</style>\n",
       "<table border=\"1\" class=\"dataframe\">\n",
       "  <thead>\n",
       "    <tr style=\"text-align: right;\">\n",
       "      <th></th>\n",
       "      <th>order_id</th>\n",
       "      <th>user_id</th>\n",
       "      <th>order_number</th>\n",
       "      <th>order_day_of_week</th>\n",
       "      <th>order_hour_of_day</th>\n",
       "      <th>days_since_prior_order</th>\n",
       "      <th>product_id</th>\n",
       "      <th>add_to_cart_order</th>\n",
       "      <th>reordered</th>\n",
       "      <th>product_name</th>\n",
       "      <th>...</th>\n",
       "      <th>frequent_flag</th>\n",
       "      <th>gender</th>\n",
       "      <th>state</th>\n",
       "      <th>age</th>\n",
       "      <th>date_joined</th>\n",
       "      <th>number_dependents</th>\n",
       "      <th>family_status</th>\n",
       "      <th>income</th>\n",
       "      <th>region</th>\n",
       "      <th>low_activity_flag</th>\n",
       "    </tr>\n",
       "  </thead>\n",
       "  <tbody>\n",
       "    <tr>\n",
       "      <th>0</th>\n",
       "      <td>2539329</td>\n",
       "      <td>1</td>\n",
       "      <td>1</td>\n",
       "      <td>2</td>\n",
       "      <td>8</td>\n",
       "      <td>7.0</td>\n",
       "      <td>196</td>\n",
       "      <td>1</td>\n",
       "      <td>0</td>\n",
       "      <td>Soda</td>\n",
       "      <td>...</td>\n",
       "      <td>Regular customer</td>\n",
       "      <td>Female</td>\n",
       "      <td>Alabama</td>\n",
       "      <td>31</td>\n",
       "      <td>2/17/2019</td>\n",
       "      <td>3</td>\n",
       "      <td>married</td>\n",
       "      <td>40423</td>\n",
       "      <td>South</td>\n",
       "      <td>NaN</td>\n",
       "    </tr>\n",
       "    <tr>\n",
       "      <th>1</th>\n",
       "      <td>2398795</td>\n",
       "      <td>1</td>\n",
       "      <td>2</td>\n",
       "      <td>3</td>\n",
       "      <td>7</td>\n",
       "      <td>15.0</td>\n",
       "      <td>196</td>\n",
       "      <td>1</td>\n",
       "      <td>1</td>\n",
       "      <td>Soda</td>\n",
       "      <td>...</td>\n",
       "      <td>Regular customer</td>\n",
       "      <td>Female</td>\n",
       "      <td>Alabama</td>\n",
       "      <td>31</td>\n",
       "      <td>2/17/2019</td>\n",
       "      <td>3</td>\n",
       "      <td>married</td>\n",
       "      <td>40423</td>\n",
       "      <td>South</td>\n",
       "      <td>NaN</td>\n",
       "    </tr>\n",
       "    <tr>\n",
       "      <th>2</th>\n",
       "      <td>473747</td>\n",
       "      <td>1</td>\n",
       "      <td>3</td>\n",
       "      <td>3</td>\n",
       "      <td>12</td>\n",
       "      <td>21.0</td>\n",
       "      <td>196</td>\n",
       "      <td>1</td>\n",
       "      <td>1</td>\n",
       "      <td>Soda</td>\n",
       "      <td>...</td>\n",
       "      <td>Regular customer</td>\n",
       "      <td>Female</td>\n",
       "      <td>Alabama</td>\n",
       "      <td>31</td>\n",
       "      <td>2/17/2019</td>\n",
       "      <td>3</td>\n",
       "      <td>married</td>\n",
       "      <td>40423</td>\n",
       "      <td>South</td>\n",
       "      <td>NaN</td>\n",
       "    </tr>\n",
       "    <tr>\n",
       "      <th>3</th>\n",
       "      <td>2254736</td>\n",
       "      <td>1</td>\n",
       "      <td>4</td>\n",
       "      <td>4</td>\n",
       "      <td>7</td>\n",
       "      <td>29.0</td>\n",
       "      <td>196</td>\n",
       "      <td>1</td>\n",
       "      <td>1</td>\n",
       "      <td>Soda</td>\n",
       "      <td>...</td>\n",
       "      <td>Regular customer</td>\n",
       "      <td>Female</td>\n",
       "      <td>Alabama</td>\n",
       "      <td>31</td>\n",
       "      <td>2/17/2019</td>\n",
       "      <td>3</td>\n",
       "      <td>married</td>\n",
       "      <td>40423</td>\n",
       "      <td>South</td>\n",
       "      <td>NaN</td>\n",
       "    </tr>\n",
       "    <tr>\n",
       "      <th>4</th>\n",
       "      <td>431534</td>\n",
       "      <td>1</td>\n",
       "      <td>5</td>\n",
       "      <td>4</td>\n",
       "      <td>15</td>\n",
       "      <td>28.0</td>\n",
       "      <td>196</td>\n",
       "      <td>1</td>\n",
       "      <td>1</td>\n",
       "      <td>Soda</td>\n",
       "      <td>...</td>\n",
       "      <td>Regular customer</td>\n",
       "      <td>Female</td>\n",
       "      <td>Alabama</td>\n",
       "      <td>31</td>\n",
       "      <td>2/17/2019</td>\n",
       "      <td>3</td>\n",
       "      <td>married</td>\n",
       "      <td>40423</td>\n",
       "      <td>South</td>\n",
       "      <td>NaN</td>\n",
       "    </tr>\n",
       "  </tbody>\n",
       "</table>\n",
       "<p>5 rows × 32 columns</p>\n",
       "</div>"
      ],
      "text/plain": [
       "   order_id  user_id  order_number  order_day_of_week  order_hour_of_day  \\\n",
       "0   2539329        1             1                  2                  8   \n",
       "1   2398795        1             2                  3                  7   \n",
       "2    473747        1             3                  3                 12   \n",
       "3   2254736        1             4                  4                  7   \n",
       "4    431534        1             5                  4                 15   \n",
       "\n",
       "   days_since_prior_order  product_id  add_to_cart_order  reordered  \\\n",
       "0                     7.0         196                  1          0   \n",
       "1                    15.0         196                  1          1   \n",
       "2                    21.0         196                  1          1   \n",
       "3                    29.0         196                  1          1   \n",
       "4                    28.0         196                  1          1   \n",
       "\n",
       "  product_name  ...     frequent_flag  gender    state age date_joined  \\\n",
       "0         Soda  ...  Regular customer  Female  Alabama  31   2/17/2019   \n",
       "1         Soda  ...  Regular customer  Female  Alabama  31   2/17/2019   \n",
       "2         Soda  ...  Regular customer  Female  Alabama  31   2/17/2019   \n",
       "3         Soda  ...  Regular customer  Female  Alabama  31   2/17/2019   \n",
       "4         Soda  ...  Regular customer  Female  Alabama  31   2/17/2019   \n",
       "\n",
       "  number_dependents family_status  income region  low_activity_flag  \n",
       "0                 3       married   40423  South                NaN  \n",
       "1                 3       married   40423  South                NaN  \n",
       "2                 3       married   40423  South                NaN  \n",
       "3                 3       married   40423  South                NaN  \n",
       "4                 3       married   40423  South                NaN  \n",
       "\n",
       "[5 rows x 32 columns]"
      ]
     },
     "execution_count": 4,
     "metadata": {},
     "output_type": "execute_result"
    }
   ],
   "source": [
    "df.head()"
   ]
  },
  {
   "cell_type": "code",
   "execution_count": 5,
   "id": "9e314bb7",
   "metadata": {
    "scrolled": false
   },
   "outputs": [
    {
     "data": {
      "text/plain": [
       "(30964564, 32)"
      ]
     },
     "execution_count": 5,
     "metadata": {},
     "output_type": "execute_result"
    }
   ],
   "source": [
    "df.shape"
   ]
  },
  {
   "cell_type": "code",
   "execution_count": 6,
   "id": "be58b514",
   "metadata": {},
   "outputs": [
    {
     "data": {
      "text/plain": [
       "<Axes: ylabel='Frequency'>"
      ]
     },
     "execution_count": 6,
     "metadata": {},
     "output_type": "execute_result"
    },
    {
     "data": {
      "image/png": "[encoded data removed]",
      "text/plain": [
       "<Figure size 640x480 with 1 Axes>"
      ]
     },
     "metadata": {},
     "output_type": "display_data"
    }
   ],
   "source": [
    "#histogram \n",
    "df['income'].plot.hist(bins = 50) "
   ]
  },
  {
   "cell_type": "code",
   "execution_count": 7,
   "id": "7df19b97",
   "metadata": {},
   "outputs": [
    {
     "data": {
      "text/html": [
       "<div>\n",
       "<style scoped>\n",
       "    .dataframe tbody tr th:only-of-type {\n",
       "        vertical-align: middle;\n",
       "    }\n",
       "\n",
       "    .dataframe tbody tr th {\n",
       "        vertical-align: top;\n",
       "    }\n",
       "\n",
       "    .dataframe thead th {\n",
       "        text-align: right;\n",
       "    }\n",
       "</style>\n",
       "<table border=\"1\" class=\"dataframe\">\n",
       "  <thead>\n",
       "    <tr style=\"text-align: right;\">\n",
       "      <th></th>\n",
       "      <th>income</th>\n",
       "    </tr>\n",
       "  </thead>\n",
       "  <tbody>\n",
       "    <tr>\n",
       "      <th>count</th>\n",
       "      <td>3.096456e+07</td>\n",
       "    </tr>\n",
       "    <tr>\n",
       "      <th>mean</th>\n",
       "      <td>9.967587e+04</td>\n",
       "    </tr>\n",
       "    <tr>\n",
       "      <th>std</th>\n",
       "      <td>4.314187e+04</td>\n",
       "    </tr>\n",
       "    <tr>\n",
       "      <th>min</th>\n",
       "      <td>2.590300e+04</td>\n",
       "    </tr>\n",
       "    <tr>\n",
       "      <th>25%</th>\n",
       "      <td>6.729200e+04</td>\n",
       "    </tr>\n",
       "    <tr>\n",
       "      <th>50%</th>\n",
       "      <td>9.676500e+04</td>\n",
       "    </tr>\n",
       "    <tr>\n",
       "      <th>75%</th>\n",
       "      <td>1.281020e+05</td>\n",
       "    </tr>\n",
       "    <tr>\n",
       "      <th>max</th>\n",
       "      <td>5.939010e+05</td>\n",
       "    </tr>\n",
       "  </tbody>\n",
       "</table>\n",
       "</div>"
      ],
      "text/plain": [
       "             income\n",
       "count  3.096456e+07\n",
       "mean   9.967587e+04\n",
       "std    4.314187e+04\n",
       "min    2.590300e+04\n",
       "25%    6.729200e+04\n",
       "50%    9.676500e+04\n",
       "75%    1.281020e+05\n",
       "max    5.939010e+05"
      ]
     },
     "execution_count": 7,
     "metadata": {},
     "output_type": "execute_result"
    }
   ],
   "source": [
    "df[['income']].describe()"
   ]
  },
  {
   "cell_type": "markdown",
   "id": "964524ca",
   "metadata": {},
   "source": [
    "## 04 Profiling Variable: Income"
   ]
  },
  {
   "cell_type": "code",
   "execution_count": null,
   "id": "29b54f67",
   "metadata": {},
   "outputs": [],
   "source": []
  },
  {
   "cell_type": "code",
   "execution_count": 8,
   "id": "3705eae1",
   "metadata": {},
   "outputs": [],
   "source": [
    "# Create profile variable for Low Income\n",
    "df.loc[(df['income'] <= 67292),'profile_income'] = \"Low\""
   ]
  },
  {
   "cell_type": "code",
   "execution_count": 9,
   "id": "5979f6d9",
   "metadata": {},
   "outputs": [],
   "source": [
    "# Create profile variable for Low Middle Income\n",
    "df.loc[(df['income'] >= 67293) & (df['income'] <=96765),'profile_income'] = \"Low Middle\""
   ]
  },
  {
   "cell_type": "code",
   "execution_count": 10,
   "id": "698aaabf",
   "metadata": {},
   "outputs": [],
   "source": [
    "# Create profile variable for High Middle Income\n",
    "df.loc[(df['income'] >= 96766) & (df['income'] <=128102),'profile_income'] = \"High Middle\""
   ]
  },
  {
   "cell_type": "code",
   "execution_count": 11,
   "id": "47da3496",
   "metadata": {},
   "outputs": [],
   "source": [
    "# Create profile variable for High Income\n",
    "df.loc[(df['income'] >= 128103),'profile_income'] = \"High\""
   ]
  },
  {
   "cell_type": "code",
   "execution_count": 12,
   "id": "6054344c",
   "metadata": {
    "scrolled": true
   },
   "outputs": [
    {
     "data": {
      "text/plain": [
       "Low            7741348\n",
       "Low Middle     7741243\n",
       "High           7741091\n",
       "High Middle    7740882\n",
       "Name: profile_income, dtype: int64"
      ]
     },
     "execution_count": 12,
     "metadata": {},
     "output_type": "execute_result"
    }
   ],
   "source": [
    "# Check counts\n",
    "df['profile_income'].value_counts(dropna = False)"
   ]
  },
  {
   "cell_type": "markdown",
   "id": "2da7233a",
   "metadata": {},
   "source": [
    "### 04.01 Distribution of Profiles"
   ]
  },
  {
   "cell_type": "code",
   "execution_count": 13,
   "id": "14094e97",
   "metadata": {},
   "outputs": [
    {
     "data": {
      "image/png": "[encoded data removed]",
      "text/plain": [
       "<Figure size 640x480 with 1 Axes>"
      ]
     },
     "metadata": {},
     "output_type": "display_data"
    }
   ],
   "source": [
    "# Bar graph by profiled segment\n",
    "bar_profile_income = df['profile_income'].value_counts().plot.bar(title='Income Profile Frequencies')"
   ]
  },
  {
   "cell_type": "code",
   "execution_count": 16,
   "id": "d358794b",
   "metadata": {},
   "outputs": [],
   "source": [
    "# Export bar chart\n",
    "bar_profile_income.figure.savefig(os.path.join(path, '04 Analysis','Visualizations', 'bar_profile_income.png'),bbox_inches='tight')"
   ]
  },
  {
   "cell_type": "markdown",
   "id": "a2ee9855",
   "metadata": {},
   "source": [
    "### 04.02 Descriptive Statistics for each profiled segment"
   ]
  },
  {
   "cell_type": "code",
   "execution_count": 17,
   "id": "b1760df9",
   "metadata": {},
   "outputs": [
    {
     "data": {
      "text/html": [
       "<div>\n",
       "<style scoped>\n",
       "    .dataframe tbody tr th:only-of-type {\n",
       "        vertical-align: middle;\n",
       "    }\n",
       "\n",
       "    .dataframe tbody tr th {\n",
       "        vertical-align: top;\n",
       "    }\n",
       "\n",
       "    .dataframe thead tr th {\n",
       "        text-align: left;\n",
       "    }\n",
       "\n",
       "    .dataframe thead tr:last-of-type th {\n",
       "        text-align: right;\n",
       "    }\n",
       "</style>\n",
       "<table border=\"1\" class=\"dataframe\">\n",
       "  <thead>\n",
       "    <tr>\n",
       "      <th></th>\n",
       "      <th colspan=\"3\" halign=\"left\">prices</th>\n",
       "    </tr>\n",
       "    <tr>\n",
       "      <th></th>\n",
       "      <th>mean</th>\n",
       "      <th>min</th>\n",
       "      <th>max</th>\n",
       "    </tr>\n",
       "    <tr>\n",
       "      <th>profile_income</th>\n",
       "      <th></th>\n",
       "      <th></th>\n",
       "      <th></th>\n",
       "    </tr>\n",
       "  </thead>\n",
       "  <tbody>\n",
       "    <tr>\n",
       "      <th>High</th>\n",
       "      <td>7.950711</td>\n",
       "      <td>1.0</td>\n",
       "      <td>25.0</td>\n",
       "    </tr>\n",
       "    <tr>\n",
       "      <th>High Middle</th>\n",
       "      <td>7.959911</td>\n",
       "      <td>1.0</td>\n",
       "      <td>25.0</td>\n",
       "    </tr>\n",
       "    <tr>\n",
       "      <th>Low</th>\n",
       "      <td>7.300463</td>\n",
       "      <td>1.0</td>\n",
       "      <td>25.0</td>\n",
       "    </tr>\n",
       "    <tr>\n",
       "      <th>Low Middle</th>\n",
       "      <td>7.951395</td>\n",
       "      <td>1.0</td>\n",
       "      <td>25.0</td>\n",
       "    </tr>\n",
       "  </tbody>\n",
       "</table>\n",
       "</div>"
      ],
      "text/plain": [
       "                  prices           \n",
       "                    mean  min   max\n",
       "profile_income                     \n",
       "High            7.950711  1.0  25.0\n",
       "High Middle     7.959911  1.0  25.0\n",
       "Low             7.300463  1.0  25.0\n",
       "Low Middle      7.951395  1.0  25.0"
      ]
     },
     "execution_count": 17,
     "metadata": {},
     "output_type": "execute_result"
    }
   ],
   "source": [
    "# Comparing mean, min, max for each profile group\n",
    "df.groupby('profile_income').agg({'prices': ['mean','min','max']})"
   ]
  },
  {
   "cell_type": "code",
   "execution_count": 18,
   "id": "1d6e0418",
   "metadata": {
    "scrolled": true
   },
   "outputs": [
    {
     "data": {
      "text/html": [
       "<div>\n",
       "<style scoped>\n",
       "    .dataframe tbody tr th:only-of-type {\n",
       "        vertical-align: middle;\n",
       "    }\n",
       "\n",
       "    .dataframe tbody tr th {\n",
       "        vertical-align: top;\n",
       "    }\n",
       "\n",
       "    .dataframe thead tr th {\n",
       "        text-align: left;\n",
       "    }\n",
       "\n",
       "    .dataframe thead tr:last-of-type th {\n",
       "        text-align: right;\n",
       "    }\n",
       "</style>\n",
       "<table border=\"1\" class=\"dataframe\">\n",
       "  <thead>\n",
       "    <tr>\n",
       "      <th></th>\n",
       "      <th>prices</th>\n",
       "    </tr>\n",
       "    <tr>\n",
       "      <th></th>\n",
       "      <th>sum</th>\n",
       "    </tr>\n",
       "    <tr>\n",
       "      <th>profile_income</th>\n",
       "      <th></th>\n",
       "    </tr>\n",
       "  </thead>\n",
       "  <tbody>\n",
       "    <tr>\n",
       "      <th>High</th>\n",
       "      <td>61514320.3</td>\n",
       "    </tr>\n",
       "    <tr>\n",
       "      <th>High Middle</th>\n",
       "      <td>61612512.7</td>\n",
       "    </tr>\n",
       "    <tr>\n",
       "      <th>Low</th>\n",
       "      <td>56515384.9</td>\n",
       "    </tr>\n",
       "    <tr>\n",
       "      <th>Low Middle</th>\n",
       "      <td>61552017.7</td>\n",
       "    </tr>\n",
       "  </tbody>\n",
       "</table>\n",
       "</div>"
      ],
      "text/plain": [
       "                    prices\n",
       "                       sum\n",
       "profile_income            \n",
       "High            61514320.3\n",
       "High Middle     61612512.7\n",
       "Low             56515384.9\n",
       "Low Middle      61552017.7"
      ]
     },
     "execution_count": 18,
     "metadata": {},
     "output_type": "execute_result"
    }
   ],
   "source": [
    "# Comparing the total of prices for each profile group\n",
    "df.groupby('profile_income').agg({'prices': ['sum']})"
   ]
  },
  {
   "cell_type": "code",
   "execution_count": 19,
   "id": "a17eb274",
   "metadata": {
    "scrolled": false
   },
   "outputs": [
    {
     "data": {
      "text/html": [
       "<div>\n",
       "<style scoped>\n",
       "    .dataframe tbody tr th:only-of-type {\n",
       "        vertical-align: middle;\n",
       "    }\n",
       "\n",
       "    .dataframe tbody tr th {\n",
       "        vertical-align: top;\n",
       "    }\n",
       "\n",
       "    .dataframe thead tr th {\n",
       "        text-align: left;\n",
       "    }\n",
       "\n",
       "    .dataframe thead tr:last-of-type th {\n",
       "        text-align: right;\n",
       "    }\n",
       "</style>\n",
       "<table border=\"1\" class=\"dataframe\">\n",
       "  <thead>\n",
       "    <tr>\n",
       "      <th></th>\n",
       "      <th colspan=\"3\" halign=\"left\">order_number</th>\n",
       "    </tr>\n",
       "    <tr>\n",
       "      <th></th>\n",
       "      <th>mean</th>\n",
       "      <th>min</th>\n",
       "      <th>max</th>\n",
       "    </tr>\n",
       "    <tr>\n",
       "      <th>profile_income</th>\n",
       "      <th></th>\n",
       "      <th></th>\n",
       "      <th></th>\n",
       "    </tr>\n",
       "  </thead>\n",
       "  <tbody>\n",
       "    <tr>\n",
       "      <th>High</th>\n",
       "      <td>17.940407</td>\n",
       "      <td>1</td>\n",
       "      <td>99</td>\n",
       "    </tr>\n",
       "    <tr>\n",
       "      <th>High Middle</th>\n",
       "      <td>17.827705</td>\n",
       "      <td>1</td>\n",
       "      <td>99</td>\n",
       "    </tr>\n",
       "    <tr>\n",
       "      <th>Low</th>\n",
       "      <td>17.476926</td>\n",
       "      <td>1</td>\n",
       "      <td>99</td>\n",
       "    </tr>\n",
       "    <tr>\n",
       "      <th>Low Middle</th>\n",
       "      <td>18.091535</td>\n",
       "      <td>1</td>\n",
       "      <td>99</td>\n",
       "    </tr>\n",
       "  </tbody>\n",
       "</table>\n",
       "</div>"
      ],
      "text/plain": [
       "               order_number        \n",
       "                       mean min max\n",
       "profile_income                     \n",
       "High              17.940407   1  99\n",
       "High Middle       17.827705   1  99\n",
       "Low               17.476926   1  99\n",
       "Low Middle        18.091535   1  99"
      ]
     },
     "execution_count": 19,
     "metadata": {},
     "output_type": "execute_result"
    }
   ],
   "source": [
    "df.groupby('profile_income').agg({'order_number': ['mean','min','max']})"
   ]
  },
  {
   "cell_type": "markdown",
   "id": "d40525b5",
   "metadata": {},
   "source": [
    "### 04.03 Relationship with profiles and regions / departments"
   ]
  },
  {
   "cell_type": "code",
   "execution_count": 20,
   "id": "3b1f82e2",
   "metadata": {
    "scrolled": true
   },
   "outputs": [
    {
     "data": {
      "text/plain": [
       "South        10311139\n",
       "West          7927227\n",
       "Midwest       7261513\n",
       "Northeast     5464685\n",
       "Name: region, dtype: int64"
      ]
     },
     "execution_count": 20,
     "metadata": {},
     "output_type": "execute_result"
    }
   ],
   "source": [
    "# Check counts\n",
    "df['region'].value_counts(dropna = False)"
   ]
  },
  {
   "cell_type": "code",
   "execution_count": 21,
   "id": "1f22896c",
   "metadata": {
    "scrolled": true
   },
   "outputs": [
    {
     "data": {
      "text/plain": [
       "1     2121731\n",
       "2       34411\n",
       "3     1120828\n",
       "4     9079273\n",
       "5      144627\n",
       "6      255991\n",
       "7     2571901\n",
       "8       93060\n",
       "9      822136\n",
       "10      33451\n",
       "11     424306\n",
       "12     674781\n",
       "13    1782705\n",
       "14     670850\n",
       "15    1012074\n",
       "16    5177182\n",
       "17     699857\n",
       "18     410392\n",
       "19    2766406\n",
       "20    1003834\n",
       "21      64768\n",
       "Name: department_id, dtype: int64"
      ]
     },
     "execution_count": 21,
     "metadata": {},
     "output_type": "execute_result"
    }
   ],
   "source": [
    "# Check counts\n",
    "df['department_id'].value_counts(dropna = False).sort_index()"
   ]
  },
  {
   "cell_type": "markdown",
   "id": "3d3521b4",
   "metadata": {},
   "source": [
    "#### 04.03.01 Relationship with profiles and departments"
   ]
  },
  {
   "cell_type": "code",
   "execution_count": 22,
   "id": "f7e64d9f",
   "metadata": {},
   "outputs": [
    {
     "data": {
      "text/html": [
       "<div>\n",
       "<style scoped>\n",
       "    .dataframe tbody tr th:only-of-type {\n",
       "        vertical-align: middle;\n",
       "    }\n",
       "\n",
       "    .dataframe tbody tr th {\n",
       "        vertical-align: top;\n",
       "    }\n",
       "\n",
       "    .dataframe thead th {\n",
       "        text-align: right;\n",
       "    }\n",
       "</style>\n",
       "<table border=\"1\" class=\"dataframe\">\n",
       "  <thead>\n",
       "    <tr style=\"text-align: right;\">\n",
       "      <th>profile_income</th>\n",
       "      <th>High</th>\n",
       "      <th>High Middle</th>\n",
       "      <th>Low</th>\n",
       "      <th>Low Middle</th>\n",
       "    </tr>\n",
       "    <tr>\n",
       "      <th>department_id</th>\n",
       "      <th></th>\n",
       "      <th></th>\n",
       "      <th></th>\n",
       "      <th></th>\n",
       "    </tr>\n",
       "  </thead>\n",
       "  <tbody>\n",
       "    <tr>\n",
       "      <th>1</th>\n",
       "      <td>541072</td>\n",
       "      <td>533745</td>\n",
       "      <td>511069</td>\n",
       "      <td>535845</td>\n",
       "    </tr>\n",
       "    <tr>\n",
       "      <th>2</th>\n",
       "      <td>8711</td>\n",
       "      <td>8523</td>\n",
       "      <td>8579</td>\n",
       "      <td>8598</td>\n",
       "    </tr>\n",
       "    <tr>\n",
       "      <th>3</th>\n",
       "      <td>290423</td>\n",
       "      <td>284311</td>\n",
       "      <td>264827</td>\n",
       "      <td>281267</td>\n",
       "    </tr>\n",
       "    <tr>\n",
       "      <th>4</th>\n",
       "      <td>2289572</td>\n",
       "      <td>2332281</td>\n",
       "      <td>2124762</td>\n",
       "      <td>2332658</td>\n",
       "    </tr>\n",
       "    <tr>\n",
       "      <th>5</th>\n",
       "      <td>40862</td>\n",
       "      <td>33638</td>\n",
       "      <td>36825</td>\n",
       "      <td>33302</td>\n",
       "    </tr>\n",
       "    <tr>\n",
       "      <th>6</th>\n",
       "      <td>65340</td>\n",
       "      <td>65831</td>\n",
       "      <td>57727</td>\n",
       "      <td>67093</td>\n",
       "    </tr>\n",
       "    <tr>\n",
       "      <th>7</th>\n",
       "      <td>618517</td>\n",
       "      <td>607427</td>\n",
       "      <td>743205</td>\n",
       "      <td>602752</td>\n",
       "    </tr>\n",
       "    <tr>\n",
       "      <th>8</th>\n",
       "      <td>24944</td>\n",
       "      <td>24152</td>\n",
       "      <td>21752</td>\n",
       "      <td>22212</td>\n",
       "    </tr>\n",
       "    <tr>\n",
       "      <th>9</th>\n",
       "      <td>212921</td>\n",
       "      <td>215464</td>\n",
       "      <td>179995</td>\n",
       "      <td>213756</td>\n",
       "    </tr>\n",
       "    <tr>\n",
       "      <th>10</th>\n",
       "      <td>7541</td>\n",
       "      <td>7978</td>\n",
       "      <td>9400</td>\n",
       "      <td>8532</td>\n",
       "    </tr>\n",
       "    <tr>\n",
       "      <th>11</th>\n",
       "      <td>106120</td>\n",
       "      <td>104460</td>\n",
       "      <td>107752</td>\n",
       "      <td>105974</td>\n",
       "    </tr>\n",
       "    <tr>\n",
       "      <th>12</th>\n",
       "      <td>182880</td>\n",
       "      <td>182717</td>\n",
       "      <td>127591</td>\n",
       "      <td>181593</td>\n",
       "    </tr>\n",
       "    <tr>\n",
       "      <th>13</th>\n",
       "      <td>457174</td>\n",
       "      <td>457089</td>\n",
       "      <td>417906</td>\n",
       "      <td>450536</td>\n",
       "    </tr>\n",
       "    <tr>\n",
       "      <th>14</th>\n",
       "      <td>162877</td>\n",
       "      <td>160868</td>\n",
       "      <td>187562</td>\n",
       "      <td>159543</td>\n",
       "    </tr>\n",
       "    <tr>\n",
       "      <th>15</th>\n",
       "      <td>265861</td>\n",
       "      <td>261761</td>\n",
       "      <td>222477</td>\n",
       "      <td>261975</td>\n",
       "    </tr>\n",
       "    <tr>\n",
       "      <th>16</th>\n",
       "      <td>1314008</td>\n",
       "      <td>1313945</td>\n",
       "      <td>1229252</td>\n",
       "      <td>1319977</td>\n",
       "    </tr>\n",
       "    <tr>\n",
       "      <th>17</th>\n",
       "      <td>177257</td>\n",
       "      <td>169514</td>\n",
       "      <td>183433</td>\n",
       "      <td>169653</td>\n",
       "    </tr>\n",
       "    <tr>\n",
       "      <th>18</th>\n",
       "      <td>105674</td>\n",
       "      <td>109264</td>\n",
       "      <td>83835</td>\n",
       "      <td>111619</td>\n",
       "    </tr>\n",
       "    <tr>\n",
       "      <th>19</th>\n",
       "      <td>601987</td>\n",
       "      <td>599430</td>\n",
       "      <td>959307</td>\n",
       "      <td>605682</td>\n",
       "    </tr>\n",
       "    <tr>\n",
       "      <th>20</th>\n",
       "      <td>251016</td>\n",
       "      <td>252656</td>\n",
       "      <td>248154</td>\n",
       "      <td>252008</td>\n",
       "    </tr>\n",
       "    <tr>\n",
       "      <th>21</th>\n",
       "      <td>16334</td>\n",
       "      <td>15828</td>\n",
       "      <td>15938</td>\n",
       "      <td>16668</td>\n",
       "    </tr>\n",
       "  </tbody>\n",
       "</table>\n",
       "</div>"
      ],
      "text/plain": [
       "profile_income     High  High Middle      Low  Low Middle\n",
       "department_id                                            \n",
       "1                541072       533745   511069      535845\n",
       "2                  8711         8523     8579        8598\n",
       "3                290423       284311   264827      281267\n",
       "4               2289572      2332281  2124762     2332658\n",
       "5                 40862        33638    36825       33302\n",
       "6                 65340        65831    57727       67093\n",
       "7                618517       607427   743205      602752\n",
       "8                 24944        24152    21752       22212\n",
       "9                212921       215464   179995      213756\n",
       "10                 7541         7978     9400        8532\n",
       "11               106120       104460   107752      105974\n",
       "12               182880       182717   127591      181593\n",
       "13               457174       457089   417906      450536\n",
       "14               162877       160868   187562      159543\n",
       "15               265861       261761   222477      261975\n",
       "16              1314008      1313945  1229252     1319977\n",
       "17               177257       169514   183433      169653\n",
       "18               105674       109264    83835      111619\n",
       "19               601987       599430   959307      605682\n",
       "20               251016       252656   248154      252008\n",
       "21                16334        15828    15938       16668"
      ]
     },
     "execution_count": 22,
     "metadata": {},
     "output_type": "execute_result"
    }
   ],
   "source": [
    "crosstab_depts = pd.crosstab(df['department_id'], df['profile_income'], dropna = False)\n",
    "crosstab_depts"
   ]
  },
  {
   "cell_type": "code",
   "execution_count": 23,
   "id": "b1aec677",
   "metadata": {
    "scrolled": true
   },
   "outputs": [
    {
     "data": {
      "image/png": "[encoded data removed]",
      "text/plain": [
       "<Figure size 640x480 with 1 Axes>"
      ]
     },
     "metadata": {},
     "output_type": "display_data"
    }
   ],
   "source": [
    "# Create a stacked bar chart of this data.\n",
    "bar_profile_income_depts = crosstab_depts.plot.bar(rot = 0, stacked = True)"
   ]
  },
  {
   "cell_type": "code",
   "execution_count": 24,
   "id": "957e3afc",
   "metadata": {},
   "outputs": [],
   "source": [
    "# Export bar chart\n",
    "bar_profile_income_depts.figure.savefig(os.path.join(path, '04 Analysis','Visualizations', 'bar_profile_income_depts.png'))"
   ]
  },
  {
   "cell_type": "markdown",
   "id": "d2d5feda",
   "metadata": {},
   "source": [
    "#### 04.03.02 Relationship with profiles and regions"
   ]
  },
  {
   "cell_type": "code",
   "execution_count": 25,
   "id": "d3159875",
   "metadata": {},
   "outputs": [
    {
     "data": {
      "text/html": [
       "<div>\n",
       "<style scoped>\n",
       "    .dataframe tbody tr th:only-of-type {\n",
       "        vertical-align: middle;\n",
       "    }\n",
       "\n",
       "    .dataframe tbody tr th {\n",
       "        vertical-align: top;\n",
       "    }\n",
       "\n",
       "    .dataframe thead th {\n",
       "        text-align: right;\n",
       "    }\n",
       "</style>\n",
       "<table border=\"1\" class=\"dataframe\">\n",
       "  <thead>\n",
       "    <tr style=\"text-align: right;\">\n",
       "      <th>profile_income</th>\n",
       "      <th>High</th>\n",
       "      <th>High Middle</th>\n",
       "      <th>Low</th>\n",
       "      <th>Low Middle</th>\n",
       "    </tr>\n",
       "    <tr>\n",
       "      <th>region</th>\n",
       "      <th></th>\n",
       "      <th></th>\n",
       "      <th></th>\n",
       "      <th></th>\n",
       "    </tr>\n",
       "  </thead>\n",
       "  <tbody>\n",
       "    <tr>\n",
       "      <th>Midwest</th>\n",
       "      <td>1841838</td>\n",
       "      <td>1851333</td>\n",
       "      <td>1790670</td>\n",
       "      <td>1777672</td>\n",
       "    </tr>\n",
       "    <tr>\n",
       "      <th>Northeast</th>\n",
       "      <td>1372838</td>\n",
       "      <td>1369080</td>\n",
       "      <td>1367074</td>\n",
       "      <td>1355693</td>\n",
       "    </tr>\n",
       "    <tr>\n",
       "      <th>South</th>\n",
       "      <td>2549267</td>\n",
       "      <td>2528205</td>\n",
       "      <td>2593563</td>\n",
       "      <td>2640104</td>\n",
       "    </tr>\n",
       "    <tr>\n",
       "      <th>West</th>\n",
       "      <td>1977148</td>\n",
       "      <td>1992264</td>\n",
       "      <td>1990041</td>\n",
       "      <td>1967774</td>\n",
       "    </tr>\n",
       "  </tbody>\n",
       "</table>\n",
       "</div>"
      ],
      "text/plain": [
       "profile_income     High  High Middle      Low  Low Middle\n",
       "region                                                   \n",
       "Midwest         1841838      1851333  1790670     1777672\n",
       "Northeast       1372838      1369080  1367074     1355693\n",
       "South           2549267      2528205  2593563     2640104\n",
       "West            1977148      1992264  1990041     1967774"
      ]
     },
     "execution_count": 25,
     "metadata": {},
     "output_type": "execute_result"
    }
   ],
   "source": [
    "crosstab_regions = pd.crosstab(df['region'], df['profile_income'], dropna = False)\n",
    "crosstab_regions"
   ]
  },
  {
   "cell_type": "code",
   "execution_count": 26,
   "id": "15d3ec1a",
   "metadata": {
    "scrolled": true
   },
   "outputs": [
    {
     "data": {
      "image/png": "[encoded data removed]",
      "text/plain": [
       "<Figure size 640x480 with 1 Axes>"
      ]
     },
     "metadata": {},
     "output_type": "display_data"
    }
   ],
   "source": [
    "# Create a stacked bar chart of this data.\n",
    "bar_profile_income_regions = crosstab_regions.plot.bar(rot = 0, stacked = True)"
   ]
  },
  {
   "cell_type": "code",
   "execution_count": 27,
   "id": "90dc6581",
   "metadata": {
    "scrolled": true
   },
   "outputs": [],
   "source": [
    "# Export bar chart\n",
    "bar_profile_income_regions.figure.savefig(os.path.join(path, '04 Analysis','Visualizations', 'bar_profile_income_regions.png'))"
   ]
  },
  {
   "cell_type": "code",
   "execution_count": null,
   "id": "5776a648",
   "metadata": {},
   "outputs": [],
   "source": []
  },
  {
   "cell_type": "code",
   "execution_count": null,
   "id": "7e75a996",
   "metadata": {},
   "outputs": [],
   "source": []
  }
 ],
 "metadata": {
  "kernelspec": {
   "display_name": "Python 3 (ipykernel)",
   "language": "python",
   "name": "python3"
  },
  "language_info": {
   "codemirror_mode": {
    "name": "ipython",
    "version": 3
   },
   "file_extension": ".py",
   "mimetype": "text/x-python",
   "name": "python",
   "nbconvert_exporter": "python",
   "pygments_lexer": "ipython3",
   "version": "3.10.9"
  }
 },
 "nbformat": 4,
 "nbformat_minor": 5
}
