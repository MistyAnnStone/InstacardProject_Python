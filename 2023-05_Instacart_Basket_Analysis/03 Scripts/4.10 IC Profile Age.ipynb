{
 "cells": [
  {
   "cell_type": "markdown",
   "id": "f370a3c2",
   "metadata": {},
   "source": [
    "# 4.10 IC Profile Age"
   ]
  },
  {
   "cell_type": "markdown",
   "id": "9352ba58",
   "metadata": {},
   "source": [
    "### This script contains the following points: <br> <br> \n",
    "1. Importing Libraries <br> <br> \n",
    "2. Importing Data Sets <br> <br> \n",
    "3. Data Checks <br><br>\n",
    "4. Profiling Variable: Age <br>\n",
    " > 04.01 Distribution of Profiles <br>\n",
    " > 04.02 Descriptive Statistics for each profiled segment <br>\n",
    " > 04.03 Relationship with profiles and regions / departments <br>"
   ]
  },
  {
   "cell_type": "markdown",
   "id": "d2b53544",
   "metadata": {},
   "source": [
    "## 01 Import Libraries"
   ]
  },
  {
   "cell_type": "code",
   "execution_count": 1,
   "id": "a2bd6748",
   "metadata": {},
   "outputs": [],
   "source": [
    "# Import Libraries with visualization capabilities\n",
    "import pandas as pd\n",
    "import numpy as np\n",
    "import os\n",
    "import matplotlib.pyplot as plt\n",
    "import seaborn as sns\n",
    "import scipy\n"
   ]
  },
  {
   "cell_type": "markdown",
   "id": "ebdd7b24",
   "metadata": {},
   "source": [
    "## 02 Import Data"
   ]
  },
  {
   "cell_type": "code",
   "execution_count": 2,
   "id": "20794144",
   "metadata": {},
   "outputs": [],
   "source": [
    "# First create a string of the path for the main project folder\n",
    "path = r'/Users/mistystone/Library/CloudStorage/OneDrive-Personal/Documents/CF_Data_Ach4_Python/2023-05_Instacart_Basket_Analysis/'"
   ]
  },
  {
   "cell_type": "code",
   "execution_count": 3,
   "id": "290b87c1",
   "metadata": {},
   "outputs": [],
   "source": [
    "# Import pickle files\n",
    "df = pd.read_pickle(os.path.join(path, '02 Data','Prepared Data','high_activity_customers.pkl')) "
   ]
  },
  {
   "cell_type": "markdown",
   "id": "9dd02f74",
   "metadata": {},
   "source": [
    "## 03 Data Checks"
   ]
  },
  {
   "cell_type": "code",
   "execution_count": 4,
   "id": "35e1ded3",
   "metadata": {
    "scrolled": false
   },
   "outputs": [
    {
     "data": {
      "text/html": [
       "<div>\n",
       "<style scoped>\n",
       "    .dataframe tbody tr th:only-of-type {\n",
       "        vertical-align: middle;\n",
       "    }\n",
       "\n",
       "    .dataframe tbody tr th {\n",
       "        vertical-align: top;\n",
       "    }\n",
       "\n",
       "    .dataframe thead th {\n",
       "        text-align: right;\n",
       "    }\n",
       "</style>\n",
       "<table border=\"1\" class=\"dataframe\">\n",
       "  <thead>\n",
       "    <tr style=\"text-align: right;\">\n",
       "      <th></th>\n",
       "      <th>order_id</th>\n",
       "      <th>user_id</th>\n",
       "      <th>order_number</th>\n",
       "      <th>order_day_of_week</th>\n",
       "      <th>order_hour_of_day</th>\n",
       "      <th>days_since_prior_order</th>\n",
       "      <th>product_id</th>\n",
       "      <th>add_to_cart_order</th>\n",
       "      <th>reordered</th>\n",
       "      <th>product_name</th>\n",
       "      <th>...</th>\n",
       "      <th>frequent_flag</th>\n",
       "      <th>gender</th>\n",
       "      <th>state</th>\n",
       "      <th>age</th>\n",
       "      <th>date_joined</th>\n",
       "      <th>number_dependents</th>\n",
       "      <th>family_status</th>\n",
       "      <th>income</th>\n",
       "      <th>region</th>\n",
       "      <th>low_activity_flag</th>\n",
       "    </tr>\n",
       "  </thead>\n",
       "  <tbody>\n",
       "    <tr>\n",
       "      <th>0</th>\n",
       "      <td>2539329</td>\n",
       "      <td>1</td>\n",
       "      <td>1</td>\n",
       "      <td>2</td>\n",
       "      <td>8</td>\n",
       "      <td>7.0</td>\n",
       "      <td>196</td>\n",
       "      <td>1</td>\n",
       "      <td>0</td>\n",
       "      <td>Soda</td>\n",
       "      <td>...</td>\n",
       "      <td>Regular customer</td>\n",
       "      <td>Female</td>\n",
       "      <td>Alabama</td>\n",
       "      <td>31</td>\n",
       "      <td>2/17/2019</td>\n",
       "      <td>3</td>\n",
       "      <td>married</td>\n",
       "      <td>40423</td>\n",
       "      <td>South</td>\n",
       "      <td>NaN</td>\n",
       "    </tr>\n",
       "    <tr>\n",
       "      <th>1</th>\n",
       "      <td>2398795</td>\n",
       "      <td>1</td>\n",
       "      <td>2</td>\n",
       "      <td>3</td>\n",
       "      <td>7</td>\n",
       "      <td>15.0</td>\n",
       "      <td>196</td>\n",
       "      <td>1</td>\n",
       "      <td>1</td>\n",
       "      <td>Soda</td>\n",
       "      <td>...</td>\n",
       "      <td>Regular customer</td>\n",
       "      <td>Female</td>\n",
       "      <td>Alabama</td>\n",
       "      <td>31</td>\n",
       "      <td>2/17/2019</td>\n",
       "      <td>3</td>\n",
       "      <td>married</td>\n",
       "      <td>40423</td>\n",
       "      <td>South</td>\n",
       "      <td>NaN</td>\n",
       "    </tr>\n",
       "    <tr>\n",
       "      <th>2</th>\n",
       "      <td>473747</td>\n",
       "      <td>1</td>\n",
       "      <td>3</td>\n",
       "      <td>3</td>\n",
       "      <td>12</td>\n",
       "      <td>21.0</td>\n",
       "      <td>196</td>\n",
       "      <td>1</td>\n",
       "      <td>1</td>\n",
       "      <td>Soda</td>\n",
       "      <td>...</td>\n",
       "      <td>Regular customer</td>\n",
       "      <td>Female</td>\n",
       "      <td>Alabama</td>\n",
       "      <td>31</td>\n",
       "      <td>2/17/2019</td>\n",
       "      <td>3</td>\n",
       "      <td>married</td>\n",
       "      <td>40423</td>\n",
       "      <td>South</td>\n",
       "      <td>NaN</td>\n",
       "    </tr>\n",
       "    <tr>\n",
       "      <th>3</th>\n",
       "      <td>2254736</td>\n",
       "      <td>1</td>\n",
       "      <td>4</td>\n",
       "      <td>4</td>\n",
       "      <td>7</td>\n",
       "      <td>29.0</td>\n",
       "      <td>196</td>\n",
       "      <td>1</td>\n",
       "      <td>1</td>\n",
       "      <td>Soda</td>\n",
       "      <td>...</td>\n",
       "      <td>Regular customer</td>\n",
       "      <td>Female</td>\n",
       "      <td>Alabama</td>\n",
       "      <td>31</td>\n",
       "      <td>2/17/2019</td>\n",
       "      <td>3</td>\n",
       "      <td>married</td>\n",
       "      <td>40423</td>\n",
       "      <td>South</td>\n",
       "      <td>NaN</td>\n",
       "    </tr>\n",
       "    <tr>\n",
       "      <th>4</th>\n",
       "      <td>431534</td>\n",
       "      <td>1</td>\n",
       "      <td>5</td>\n",
       "      <td>4</td>\n",
       "      <td>15</td>\n",
       "      <td>28.0</td>\n",
       "      <td>196</td>\n",
       "      <td>1</td>\n",
       "      <td>1</td>\n",
       "      <td>Soda</td>\n",
       "      <td>...</td>\n",
       "      <td>Regular customer</td>\n",
       "      <td>Female</td>\n",
       "      <td>Alabama</td>\n",
       "      <td>31</td>\n",
       "      <td>2/17/2019</td>\n",
       "      <td>3</td>\n",
       "      <td>married</td>\n",
       "      <td>40423</td>\n",
       "      <td>South</td>\n",
       "      <td>NaN</td>\n",
       "    </tr>\n",
       "  </tbody>\n",
       "</table>\n",
       "<p>5 rows × 32 columns</p>\n",
       "</div>"
      ],
      "text/plain": [
       "   order_id  user_id  order_number  order_day_of_week  order_hour_of_day  \\\n",
       "0   2539329        1             1                  2                  8   \n",
       "1   2398795        1             2                  3                  7   \n",
       "2    473747        1             3                  3                 12   \n",
       "3   2254736        1             4                  4                  7   \n",
       "4    431534        1             5                  4                 15   \n",
       "\n",
       "   days_since_prior_order  product_id  add_to_cart_order  reordered  \\\n",
       "0                     7.0         196                  1          0   \n",
       "1                    15.0         196                  1          1   \n",
       "2                    21.0         196                  1          1   \n",
       "3                    29.0         196                  1          1   \n",
       "4                    28.0         196                  1          1   \n",
       "\n",
       "  product_name  ...     frequent_flag  gender    state age date_joined  \\\n",
       "0         Soda  ...  Regular customer  Female  Alabama  31   2/17/2019   \n",
       "1         Soda  ...  Regular customer  Female  Alabama  31   2/17/2019   \n",
       "2         Soda  ...  Regular customer  Female  Alabama  31   2/17/2019   \n",
       "3         Soda  ...  Regular customer  Female  Alabama  31   2/17/2019   \n",
       "4         Soda  ...  Regular customer  Female  Alabama  31   2/17/2019   \n",
       "\n",
       "  number_dependents family_status  income region  low_activity_flag  \n",
       "0                 3       married   40423  South                NaN  \n",
       "1                 3       married   40423  South                NaN  \n",
       "2                 3       married   40423  South                NaN  \n",
       "3                 3       married   40423  South                NaN  \n",
       "4                 3       married   40423  South                NaN  \n",
       "\n",
       "[5 rows x 32 columns]"
      ]
     },
     "execution_count": 4,
     "metadata": {},
     "output_type": "execute_result"
    }
   ],
   "source": [
    "df.head()"
   ]
  },
  {
   "cell_type": "code",
   "execution_count": 5,
   "id": "9e314bb7",
   "metadata": {
    "scrolled": false
   },
   "outputs": [
    {
     "data": {
      "text/plain": [
       "(30964564, 32)"
      ]
     },
     "execution_count": 5,
     "metadata": {},
     "output_type": "execute_result"
    }
   ],
   "source": [
    "df.shape"
   ]
  },
  {
   "cell_type": "markdown",
   "id": "964524ca",
   "metadata": {},
   "source": [
    "## 04 Profiling Variable: Age"
   ]
  },
  {
   "cell_type": "code",
   "execution_count": 6,
   "id": "3705eae1",
   "metadata": {},
   "outputs": [],
   "source": [
    "# Create profile variable for Early Adult\n",
    "df.loc[(df['age'] <= 25),'profile_age'] = \"Early Adult\""
   ]
  },
  {
   "cell_type": "code",
   "execution_count": 7,
   "id": "5979f6d9",
   "metadata": {},
   "outputs": [],
   "source": [
    "# Create profile variable for Young\n",
    "df.loc[(df['age'] >= 26) & (df['age'] <=39),'profile_age'] = \"Young\""
   ]
  },
  {
   "cell_type": "code",
   "execution_count": 8,
   "id": "698aaabf",
   "metadata": {},
   "outputs": [],
   "source": [
    "# Create profile variable for Middle\n",
    "df.loc[(df['age'] >= 40) & (df['age'] <=59),'profile_age'] = \"Middle\""
   ]
  },
  {
   "cell_type": "code",
   "execution_count": 9,
   "id": "47da3496",
   "metadata": {},
   "outputs": [],
   "source": [
    "# Create profile variable for Older\n",
    "df.loc[(df['age'] >= 60),'profile_age'] = \"Older\""
   ]
  },
  {
   "cell_type": "code",
   "execution_count": 10,
   "id": "6054344c",
   "metadata": {
    "scrolled": true
   },
   "outputs": [
    {
     "data": {
      "text/plain": [
       "Older          10574504\n",
       "Middle          9724950\n",
       "Young           6800592\n",
       "Early Adult     3864518\n",
       "Name: profile_age, dtype: int64"
      ]
     },
     "execution_count": 10,
     "metadata": {},
     "output_type": "execute_result"
    }
   ],
   "source": [
    "# Check counts\n",
    "df['profile_age'].value_counts(dropna = False)"
   ]
  },
  {
   "cell_type": "markdown",
   "id": "2da7233a",
   "metadata": {},
   "source": [
    "### 04.01 Distribution of Profiles"
   ]
  },
  {
   "cell_type": "code",
   "execution_count": 11,
   "id": "14094e97",
   "metadata": {},
   "outputs": [
    {
     "data": {
      "image/png": "[encoded data removed]",
      "text/plain": [
       "<Figure size 640x480 with 1 Axes>"
      ]
     },
     "metadata": {},
     "output_type": "display_data"
    }
   ],
   "source": [
    "# Bar graph by profiled segment\n",
    "bar_profile_age = df['profile_age'].value_counts().plot.bar(title='Age Profile Frequencies')"
   ]
  },
  {
   "cell_type": "code",
   "execution_count": 12,
   "id": "d358794b",
   "metadata": {},
   "outputs": [],
   "source": [
    "# Export bar chart\n",
    "bar_profile_age.figure.savefig(os.path.join(path, '04 Analysis','Visualizations', 'bar_profile_age.png'),bbox_inches='tight')"
   ]
  },
  {
   "cell_type": "markdown",
   "id": "a2ee9855",
   "metadata": {},
   "source": [
    "### 04.02 Descriptive Statistics for each profiled segment"
   ]
  },
  {
   "cell_type": "code",
   "execution_count": 13,
   "id": "b1760df9",
   "metadata": {},
   "outputs": [
    {
     "data": {
      "text/html": [
       "<div>\n",
       "<style scoped>\n",
       "    .dataframe tbody tr th:only-of-type {\n",
       "        vertical-align: middle;\n",
       "    }\n",
       "\n",
       "    .dataframe tbody tr th {\n",
       "        vertical-align: top;\n",
       "    }\n",
       "\n",
       "    .dataframe thead tr th {\n",
       "        text-align: left;\n",
       "    }\n",
       "\n",
       "    .dataframe thead tr:last-of-type th {\n",
       "        text-align: right;\n",
       "    }\n",
       "</style>\n",
       "<table border=\"1\" class=\"dataframe\">\n",
       "  <thead>\n",
       "    <tr>\n",
       "      <th></th>\n",
       "      <th colspan=\"3\" halign=\"left\">prices</th>\n",
       "    </tr>\n",
       "    <tr>\n",
       "      <th></th>\n",
       "      <th>mean</th>\n",
       "      <th>min</th>\n",
       "      <th>max</th>\n",
       "    </tr>\n",
       "    <tr>\n",
       "      <th>profile_age</th>\n",
       "      <th></th>\n",
       "      <th></th>\n",
       "      <th></th>\n",
       "    </tr>\n",
       "  </thead>\n",
       "  <tbody>\n",
       "    <tr>\n",
       "      <th>Early Adult</th>\n",
       "      <td>7.784889</td>\n",
       "      <td>1.0</td>\n",
       "      <td>25.0</td>\n",
       "    </tr>\n",
       "    <tr>\n",
       "      <th>Middle</th>\n",
       "      <td>7.791641</td>\n",
       "      <td>1.0</td>\n",
       "      <td>25.0</td>\n",
       "    </tr>\n",
       "    <tr>\n",
       "      <th>Older</th>\n",
       "      <td>7.795446</td>\n",
       "      <td>1.0</td>\n",
       "      <td>25.0</td>\n",
       "    </tr>\n",
       "    <tr>\n",
       "      <th>Young</th>\n",
       "      <td>7.784777</td>\n",
       "      <td>1.0</td>\n",
       "      <td>25.0</td>\n",
       "    </tr>\n",
       "  </tbody>\n",
       "</table>\n",
       "</div>"
      ],
      "text/plain": [
       "               prices           \n",
       "                 mean  min   max\n",
       "profile_age                     \n",
       "Early Adult  7.784889  1.0  25.0\n",
       "Middle       7.791641  1.0  25.0\n",
       "Older        7.795446  1.0  25.0\n",
       "Young        7.784777  1.0  25.0"
      ]
     },
     "execution_count": 13,
     "metadata": {},
     "output_type": "execute_result"
    }
   ],
   "source": [
    "# Comparing mean, min, max for each profile group\n",
    "df.groupby('profile_age').agg({'prices': ['mean','min','max']})"
   ]
  },
  {
   "cell_type": "code",
   "execution_count": 14,
   "id": "1d6e0418",
   "metadata": {
    "scrolled": true
   },
   "outputs": [
    {
     "data": {
      "text/html": [
       "<div>\n",
       "<style scoped>\n",
       "    .dataframe tbody tr th:only-of-type {\n",
       "        vertical-align: middle;\n",
       "    }\n",
       "\n",
       "    .dataframe tbody tr th {\n",
       "        vertical-align: top;\n",
       "    }\n",
       "\n",
       "    .dataframe thead tr th {\n",
       "        text-align: left;\n",
       "    }\n",
       "\n",
       "    .dataframe thead tr:last-of-type th {\n",
       "        text-align: right;\n",
       "    }\n",
       "</style>\n",
       "<table border=\"1\" class=\"dataframe\">\n",
       "  <thead>\n",
       "    <tr>\n",
       "      <th></th>\n",
       "      <th>prices</th>\n",
       "    </tr>\n",
       "    <tr>\n",
       "      <th></th>\n",
       "      <th>sum</th>\n",
       "    </tr>\n",
       "    <tr>\n",
       "      <th>profile_age</th>\n",
       "      <th></th>\n",
       "    </tr>\n",
       "  </thead>\n",
       "  <tbody>\n",
       "    <tr>\n",
       "      <th>Early Adult</th>\n",
       "      <td>30079773.8</td>\n",
       "    </tr>\n",
       "    <tr>\n",
       "      <th>Middle</th>\n",
       "      <td>75761161.1</td>\n",
       "    </tr>\n",
       "    <tr>\n",
       "      <th>Older</th>\n",
       "      <td>82420137.8</td>\n",
       "    </tr>\n",
       "    <tr>\n",
       "      <th>Young</th>\n",
       "      <td>52933162.9</td>\n",
       "    </tr>\n",
       "  </tbody>\n",
       "</table>\n",
       "</div>"
      ],
      "text/plain": [
       "                 prices\n",
       "                    sum\n",
       "profile_age            \n",
       "Early Adult  30079773.8\n",
       "Middle       75761161.1\n",
       "Older        82420137.8\n",
       "Young        52933162.9"
      ]
     },
     "execution_count": 14,
     "metadata": {},
     "output_type": "execute_result"
    }
   ],
   "source": [
    "# Comparing the total of prices for each profile group\n",
    "df.groupby('profile_age').agg({'prices': ['sum']})"
   ]
  },
  {
   "cell_type": "code",
   "execution_count": 15,
   "id": "a17eb274",
   "metadata": {
    "scrolled": false
   },
   "outputs": [
    {
     "data": {
      "text/html": [
       "<div>\n",
       "<style scoped>\n",
       "    .dataframe tbody tr th:only-of-type {\n",
       "        vertical-align: middle;\n",
       "    }\n",
       "\n",
       "    .dataframe tbody tr th {\n",
       "        vertical-align: top;\n",
       "    }\n",
       "\n",
       "    .dataframe thead tr th {\n",
       "        text-align: left;\n",
       "    }\n",
       "\n",
       "    .dataframe thead tr:last-of-type th {\n",
       "        text-align: right;\n",
       "    }\n",
       "</style>\n",
       "<table border=\"1\" class=\"dataframe\">\n",
       "  <thead>\n",
       "    <tr>\n",
       "      <th></th>\n",
       "      <th colspan=\"3\" halign=\"left\">order_number</th>\n",
       "    </tr>\n",
       "    <tr>\n",
       "      <th></th>\n",
       "      <th>mean</th>\n",
       "      <th>min</th>\n",
       "      <th>max</th>\n",
       "    </tr>\n",
       "    <tr>\n",
       "      <th>profile_age</th>\n",
       "      <th></th>\n",
       "      <th></th>\n",
       "      <th></th>\n",
       "    </tr>\n",
       "  </thead>\n",
       "  <tbody>\n",
       "    <tr>\n",
       "      <th>Early Adult</th>\n",
       "      <td>17.870005</td>\n",
       "      <td>1</td>\n",
       "      <td>99</td>\n",
       "    </tr>\n",
       "    <tr>\n",
       "      <th>Middle</th>\n",
       "      <td>17.826894</td>\n",
       "      <td>1</td>\n",
       "      <td>99</td>\n",
       "    </tr>\n",
       "    <tr>\n",
       "      <th>Older</th>\n",
       "      <td>17.807616</td>\n",
       "      <td>1</td>\n",
       "      <td>99</td>\n",
       "    </tr>\n",
       "    <tr>\n",
       "      <th>Young</th>\n",
       "      <td>17.865370</td>\n",
       "      <td>1</td>\n",
       "      <td>99</td>\n",
       "    </tr>\n",
       "  </tbody>\n",
       "</table>\n",
       "</div>"
      ],
      "text/plain": [
       "            order_number        \n",
       "                    mean min max\n",
       "profile_age                     \n",
       "Early Adult    17.870005   1  99\n",
       "Middle         17.826894   1  99\n",
       "Older          17.807616   1  99\n",
       "Young          17.865370   1  99"
      ]
     },
     "execution_count": 15,
     "metadata": {},
     "output_type": "execute_result"
    }
   ],
   "source": [
    "df.groupby('profile_age').agg({'order_number': ['mean','min','max']})"
   ]
  },
  {
   "cell_type": "markdown",
   "id": "d40525b5",
   "metadata": {},
   "source": [
    "### 04.03 Relationship with profiles and regions / departments"
   ]
  },
  {
   "cell_type": "code",
   "execution_count": 16,
   "id": "3b1f82e2",
   "metadata": {
    "scrolled": true
   },
   "outputs": [
    {
     "data": {
      "text/plain": [
       "South        10311139\n",
       "West          7927227\n",
       "Midwest       7261513\n",
       "Northeast     5464685\n",
       "Name: region, dtype: int64"
      ]
     },
     "execution_count": 16,
     "metadata": {},
     "output_type": "execute_result"
    }
   ],
   "source": [
    "# Check counts\n",
    "df['region'].value_counts(dropna = False)"
   ]
  },
  {
   "cell_type": "code",
   "execution_count": 17,
   "id": "1f22896c",
   "metadata": {
    "scrolled": true
   },
   "outputs": [
    {
     "data": {
      "text/plain": [
       "1     2121731\n",
       "2       34411\n",
       "3     1120828\n",
       "4     9079273\n",
       "5      144627\n",
       "6      255991\n",
       "7     2571901\n",
       "8       93060\n",
       "9      822136\n",
       "10      33451\n",
       "11     424306\n",
       "12     674781\n",
       "13    1782705\n",
       "14     670850\n",
       "15    1012074\n",
       "16    5177182\n",
       "17     699857\n",
       "18     410392\n",
       "19    2766406\n",
       "20    1003834\n",
       "21      64768\n",
       "Name: department_id, dtype: int64"
      ]
     },
     "execution_count": 17,
     "metadata": {},
     "output_type": "execute_result"
    }
   ],
   "source": [
    "# Check counts\n",
    "df['department_id'].value_counts(dropna = False).sort_index()"
   ]
  },
  {
   "cell_type": "markdown",
   "id": "3d3521b4",
   "metadata": {},
   "source": [
    "#### 04.03.01 Relationship with profiles and departments"
   ]
  },
  {
   "cell_type": "code",
   "execution_count": 18,
   "id": "f7e64d9f",
   "metadata": {},
   "outputs": [
    {
     "data": {
      "text/html": [
       "<div>\n",
       "<style scoped>\n",
       "    .dataframe tbody tr th:only-of-type {\n",
       "        vertical-align: middle;\n",
       "    }\n",
       "\n",
       "    .dataframe tbody tr th {\n",
       "        vertical-align: top;\n",
       "    }\n",
       "\n",
       "    .dataframe thead th {\n",
       "        text-align: right;\n",
       "    }\n",
       "</style>\n",
       "<table border=\"1\" class=\"dataframe\">\n",
       "  <thead>\n",
       "    <tr style=\"text-align: right;\">\n",
       "      <th>profile_age</th>\n",
       "      <th>Early Adult</th>\n",
       "      <th>Middle</th>\n",
       "      <th>Older</th>\n",
       "      <th>Young</th>\n",
       "    </tr>\n",
       "    <tr>\n",
       "      <th>department_id</th>\n",
       "      <th></th>\n",
       "      <th></th>\n",
       "      <th></th>\n",
       "      <th></th>\n",
       "    </tr>\n",
       "  </thead>\n",
       "  <tbody>\n",
       "    <tr>\n",
       "      <th>1</th>\n",
       "      <td>265890</td>\n",
       "      <td>665965</td>\n",
       "      <td>728963</td>\n",
       "      <td>460913</td>\n",
       "    </tr>\n",
       "    <tr>\n",
       "      <th>2</th>\n",
       "      <td>4456</td>\n",
       "      <td>10689</td>\n",
       "      <td>11604</td>\n",
       "      <td>7662</td>\n",
       "    </tr>\n",
       "    <tr>\n",
       "      <th>3</th>\n",
       "      <td>139873</td>\n",
       "      <td>352380</td>\n",
       "      <td>382446</td>\n",
       "      <td>246129</td>\n",
       "    </tr>\n",
       "    <tr>\n",
       "      <th>4</th>\n",
       "      <td>1127726</td>\n",
       "      <td>2846302</td>\n",
       "      <td>3104118</td>\n",
       "      <td>2001127</td>\n",
       "    </tr>\n",
       "    <tr>\n",
       "      <th>5</th>\n",
       "      <td>19188</td>\n",
       "      <td>45375</td>\n",
       "      <td>47596</td>\n",
       "      <td>32468</td>\n",
       "    </tr>\n",
       "    <tr>\n",
       "      <th>6</th>\n",
       "      <td>32374</td>\n",
       "      <td>80697</td>\n",
       "      <td>86448</td>\n",
       "      <td>56472</td>\n",
       "    </tr>\n",
       "    <tr>\n",
       "      <th>7</th>\n",
       "      <td>318343</td>\n",
       "      <td>814059</td>\n",
       "      <td>883669</td>\n",
       "      <td>555830</td>\n",
       "    </tr>\n",
       "    <tr>\n",
       "      <th>8</th>\n",
       "      <td>12618</td>\n",
       "      <td>29387</td>\n",
       "      <td>31755</td>\n",
       "      <td>19300</td>\n",
       "    </tr>\n",
       "    <tr>\n",
       "      <th>9</th>\n",
       "      <td>104198</td>\n",
       "      <td>258535</td>\n",
       "      <td>280102</td>\n",
       "      <td>179301</td>\n",
       "    </tr>\n",
       "    <tr>\n",
       "      <th>10</th>\n",
       "      <td>4306</td>\n",
       "      <td>10403</td>\n",
       "      <td>11424</td>\n",
       "      <td>7318</td>\n",
       "    </tr>\n",
       "    <tr>\n",
       "      <th>11</th>\n",
       "      <td>52996</td>\n",
       "      <td>135771</td>\n",
       "      <td>143728</td>\n",
       "      <td>91811</td>\n",
       "    </tr>\n",
       "    <tr>\n",
       "      <th>12</th>\n",
       "      <td>84580</td>\n",
       "      <td>211530</td>\n",
       "      <td>232752</td>\n",
       "      <td>145919</td>\n",
       "    </tr>\n",
       "    <tr>\n",
       "      <th>13</th>\n",
       "      <td>222086</td>\n",
       "      <td>560582</td>\n",
       "      <td>609961</td>\n",
       "      <td>390076</td>\n",
       "    </tr>\n",
       "    <tr>\n",
       "      <th>14</th>\n",
       "      <td>85477</td>\n",
       "      <td>211160</td>\n",
       "      <td>227751</td>\n",
       "      <td>146462</td>\n",
       "    </tr>\n",
       "    <tr>\n",
       "      <th>15</th>\n",
       "      <td>126312</td>\n",
       "      <td>317911</td>\n",
       "      <td>344447</td>\n",
       "      <td>223404</td>\n",
       "    </tr>\n",
       "    <tr>\n",
       "      <th>16</th>\n",
       "      <td>647493</td>\n",
       "      <td>1621367</td>\n",
       "      <td>1762512</td>\n",
       "      <td>1145810</td>\n",
       "    </tr>\n",
       "    <tr>\n",
       "      <th>17</th>\n",
       "      <td>86814</td>\n",
       "      <td>220117</td>\n",
       "      <td>240635</td>\n",
       "      <td>152291</td>\n",
       "    </tr>\n",
       "    <tr>\n",
       "      <th>18</th>\n",
       "      <td>51234</td>\n",
       "      <td>130198</td>\n",
       "      <td>138738</td>\n",
       "      <td>90222</td>\n",
       "    </tr>\n",
       "    <tr>\n",
       "      <th>19</th>\n",
       "      <td>345616</td>\n",
       "      <td>867386</td>\n",
       "      <td>940733</td>\n",
       "      <td>612671</td>\n",
       "    </tr>\n",
       "    <tr>\n",
       "      <th>20</th>\n",
       "      <td>124555</td>\n",
       "      <td>314654</td>\n",
       "      <td>343335</td>\n",
       "      <td>221290</td>\n",
       "    </tr>\n",
       "    <tr>\n",
       "      <th>21</th>\n",
       "      <td>8383</td>\n",
       "      <td>20482</td>\n",
       "      <td>21787</td>\n",
       "      <td>14116</td>\n",
       "    </tr>\n",
       "  </tbody>\n",
       "</table>\n",
       "</div>"
      ],
      "text/plain": [
       "profile_age    Early Adult   Middle    Older    Young\n",
       "department_id                                        \n",
       "1                   265890   665965   728963   460913\n",
       "2                     4456    10689    11604     7662\n",
       "3                   139873   352380   382446   246129\n",
       "4                  1127726  2846302  3104118  2001127\n",
       "5                    19188    45375    47596    32468\n",
       "6                    32374    80697    86448    56472\n",
       "7                   318343   814059   883669   555830\n",
       "8                    12618    29387    31755    19300\n",
       "9                   104198   258535   280102   179301\n",
       "10                    4306    10403    11424     7318\n",
       "11                   52996   135771   143728    91811\n",
       "12                   84580   211530   232752   145919\n",
       "13                  222086   560582   609961   390076\n",
       "14                   85477   211160   227751   146462\n",
       "15                  126312   317911   344447   223404\n",
       "16                  647493  1621367  1762512  1145810\n",
       "17                   86814   220117   240635   152291\n",
       "18                   51234   130198   138738    90222\n",
       "19                  345616   867386   940733   612671\n",
       "20                  124555   314654   343335   221290\n",
       "21                    8383    20482    21787    14116"
      ]
     },
     "execution_count": 18,
     "metadata": {},
     "output_type": "execute_result"
    }
   ],
   "source": [
    "crosstab_depts = pd.crosstab(df['department_id'], df['profile_age'], dropna = False)\n",
    "crosstab_depts"
   ]
  },
  {
   "cell_type": "code",
   "execution_count": 19,
   "id": "b1aec677",
   "metadata": {
    "scrolled": true
   },
   "outputs": [
    {
     "data": {
      "image/png": "[encoded data removed]",
      "text/plain": [
       "<Figure size 640x480 with 1 Axes>"
      ]
     },
     "metadata": {},
     "output_type": "display_data"
    }
   ],
   "source": [
    "# Create a stacked bar chart of this data.\n",
    "bar_profile_age_depts = crosstab_depts.plot.bar(rot = 0, stacked = True)"
   ]
  },
  {
   "cell_type": "code",
   "execution_count": 20,
   "id": "957e3afc",
   "metadata": {},
   "outputs": [],
   "source": [
    "# Export bar chart\n",
    "bar_profile_age_depts.figure.savefig(os.path.join(path, '04 Analysis','Visualizations', 'bar_profile_age_depts.png'))"
   ]
  },
  {
   "cell_type": "markdown",
   "id": "d2d5feda",
   "metadata": {},
   "source": [
    "#### 04.03.02 Relationship with profiles and regions"
   ]
  },
  {
   "cell_type": "code",
   "execution_count": 21,
   "id": "d3159875",
   "metadata": {},
   "outputs": [
    {
     "data": {
      "text/html": [
       "<div>\n",
       "<style scoped>\n",
       "    .dataframe tbody tr th:only-of-type {\n",
       "        vertical-align: middle;\n",
       "    }\n",
       "\n",
       "    .dataframe tbody tr th {\n",
       "        vertical-align: top;\n",
       "    }\n",
       "\n",
       "    .dataframe thead th {\n",
       "        text-align: right;\n",
       "    }\n",
       "</style>\n",
       "<table border=\"1\" class=\"dataframe\">\n",
       "  <thead>\n",
       "    <tr style=\"text-align: right;\">\n",
       "      <th>profile_age</th>\n",
       "      <th>Early Adult</th>\n",
       "      <th>Middle</th>\n",
       "      <th>Older</th>\n",
       "      <th>Young</th>\n",
       "    </tr>\n",
       "    <tr>\n",
       "      <th>region</th>\n",
       "      <th></th>\n",
       "      <th></th>\n",
       "      <th></th>\n",
       "      <th></th>\n",
       "    </tr>\n",
       "  </thead>\n",
       "  <tbody>\n",
       "    <tr>\n",
       "      <th>Midwest</th>\n",
       "      <td>898155</td>\n",
       "      <td>2323069</td>\n",
       "      <td>2455443</td>\n",
       "      <td>1584846</td>\n",
       "    </tr>\n",
       "    <tr>\n",
       "      <th>Northeast</th>\n",
       "      <td>679909</td>\n",
       "      <td>1708719</td>\n",
       "      <td>1884229</td>\n",
       "      <td>1191828</td>\n",
       "    </tr>\n",
       "    <tr>\n",
       "      <th>South</th>\n",
       "      <td>1314989</td>\n",
       "      <td>3181471</td>\n",
       "      <td>3521421</td>\n",
       "      <td>2293258</td>\n",
       "    </tr>\n",
       "    <tr>\n",
       "      <th>West</th>\n",
       "      <td>971465</td>\n",
       "      <td>2511691</td>\n",
       "      <td>2713411</td>\n",
       "      <td>1730660</td>\n",
       "    </tr>\n",
       "  </tbody>\n",
       "</table>\n",
       "</div>"
      ],
      "text/plain": [
       "profile_age  Early Adult   Middle    Older    Young\n",
       "region                                             \n",
       "Midwest           898155  2323069  2455443  1584846\n",
       "Northeast         679909  1708719  1884229  1191828\n",
       "South            1314989  3181471  3521421  2293258\n",
       "West              971465  2511691  2713411  1730660"
      ]
     },
     "execution_count": 21,
     "metadata": {},
     "output_type": "execute_result"
    }
   ],
   "source": [
    "crosstab_regions = pd.crosstab(df['region'], df['profile_age'], dropna = False)\n",
    "crosstab_regions"
   ]
  },
  {
   "cell_type": "code",
   "execution_count": 22,
   "id": "15d3ec1a",
   "metadata": {
    "scrolled": true
   },
   "outputs": [
    {
     "data": {
      "image/png": "[encoded data removed]",
      "text/plain": [
       "<Figure size 640x480 with 1 Axes>"
      ]
     },
     "metadata": {},
     "output_type": "display_data"
    }
   ],
   "source": [
    "# Create a stacked bar chart of this data.\n",
    "bar_profile_age_regions = crosstab_regions.plot.bar(rot = 0, stacked = True)"
   ]
  },
  {
   "cell_type": "code",
   "execution_count": 23,
   "id": "90dc6581",
   "metadata": {
    "scrolled": true
   },
   "outputs": [],
   "source": [
    "# Export bar chart\n",
    "bar_profile_age_regions.figure.savefig(os.path.join(path, '04 Analysis','Visualizations', 'bar_profile_age_regions.png'))"
   ]
  },
  {
   "cell_type": "code",
   "execution_count": null,
   "id": "5776a648",
   "metadata": {},
   "outputs": [],
   "source": []
  }
 ],
 "metadata": {
  "kernelspec": {
   "display_name": "Python 3 (ipykernel)",
   "language": "python",
   "name": "python3"
  },
  "language_info": {
   "codemirror_mode": {
    "name": "ipython",
    "version": 3
   },
   "file_extension": ".py",
   "mimetype": "text/x-python",
   "name": "python",
   "nbconvert_exporter": "python",
   "pygments_lexer": "ipython3",
   "version": "3.10.9"
  }
 },
 "nbformat": 4,
 "nbformat_minor": 5
}
