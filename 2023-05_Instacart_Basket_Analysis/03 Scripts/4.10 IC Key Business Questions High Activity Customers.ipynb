{
 "cells": [
  {
   "cell_type": "markdown",
   "id": "f370a3c2",
   "metadata": {},
   "source": [
    "# 4.10 IC Key Business Questions Regions and High Activity Customers"
   ]
  },
  {
   "cell_type": "markdown",
   "id": "9352ba58",
   "metadata": {},
   "source": [
    "### This script contains the following points: <br> <br> \n",
    "1. Importing Libraries <br> <br> \n",
    "2. Importing Data Sets <br> <br> \n",
    "3. Data Checks <br><br>\n",
    "4. Regional Considerations <br><br>\n",
    "5. Exclusion Flag for Low Order Numbers\n"
   ]
  },
  {
   "cell_type": "markdown",
   "id": "d2b53544",
   "metadata": {},
   "source": [
    "## 01 Import Libraries"
   ]
  },
  {
   "cell_type": "code",
   "execution_count": 2,
   "id": "a2bd6748",
   "metadata": {},
   "outputs": [],
   "source": [
    "# Import Libraries with visualization capabilities\n",
    "import pandas as pd\n",
    "import numpy as np\n",
    "import os\n",
    "import matplotlib.pyplot as plt\n",
    "import seaborn as sns\n",
    "import scipy\n"
   ]
  },
  {
   "cell_type": "markdown",
   "id": "ebdd7b24",
   "metadata": {},
   "source": [
    "## 02 Import Data"
   ]
  },
  {
   "cell_type": "code",
   "execution_count": 3,
   "id": "20794144",
   "metadata": {},
   "outputs": [],
   "source": [
    "# First create a string of the path for the main project folder\n",
    "path = r'/Users/mistystone/Library/CloudStorage/OneDrive-Personal/Documents/CF_Data_Ach4_Python/2023-05_Instacart_Basket_Analysis/'"
   ]
  },
  {
   "cell_type": "code",
   "execution_count": 4,
   "id": "290b87c1",
   "metadata": {},
   "outputs": [],
   "source": [
    "# Import pickle files\n",
    "df = pd.read_pickle(os.path.join(path, '02 Data','Prepared Data','orders_products_all.pkl')) "
   ]
  },
  {
   "cell_type": "markdown",
   "id": "9dd02f74",
   "metadata": {},
   "source": [
    "## 03 Data Checks"
   ]
  },
  {
   "cell_type": "code",
   "execution_count": 5,
   "id": "35e1ded3",
   "metadata": {
    "scrolled": true
   },
   "outputs": [
    {
     "data": {
      "text/html": [
       "<div>\n",
       "<style scoped>\n",
       "    .dataframe tbody tr th:only-of-type {\n",
       "        vertical-align: middle;\n",
       "    }\n",
       "\n",
       "    .dataframe tbody tr th {\n",
       "        vertical-align: top;\n",
       "    }\n",
       "\n",
       "    .dataframe thead th {\n",
       "        text-align: right;\n",
       "    }\n",
       "</style>\n",
       "<table border=\"1\" class=\"dataframe\">\n",
       "  <thead>\n",
       "    <tr style=\"text-align: right;\">\n",
       "      <th></th>\n",
       "      <th>order_id</th>\n",
       "      <th>user_id</th>\n",
       "      <th>order_number</th>\n",
       "      <th>order_day_of_week</th>\n",
       "      <th>order_hour_of_day</th>\n",
       "      <th>days_since_prior_order</th>\n",
       "      <th>product_id</th>\n",
       "      <th>add_to_cart_order</th>\n",
       "      <th>reordered</th>\n",
       "      <th>product_name</th>\n",
       "      <th>...</th>\n",
       "      <th>spend_flag</th>\n",
       "      <th>frequent_orders</th>\n",
       "      <th>frequent_flag</th>\n",
       "      <th>gender</th>\n",
       "      <th>state</th>\n",
       "      <th>age</th>\n",
       "      <th>date_joined</th>\n",
       "      <th>number_dependents</th>\n",
       "      <th>family_status</th>\n",
       "      <th>income</th>\n",
       "    </tr>\n",
       "  </thead>\n",
       "  <tbody>\n",
       "    <tr>\n",
       "      <th>0</th>\n",
       "      <td>2539329</td>\n",
       "      <td>1</td>\n",
       "      <td>1</td>\n",
       "      <td>2</td>\n",
       "      <td>8</td>\n",
       "      <td>7.0</td>\n",
       "      <td>196</td>\n",
       "      <td>1</td>\n",
       "      <td>0</td>\n",
       "      <td>Soda</td>\n",
       "      <td>...</td>\n",
       "      <td>Low spender</td>\n",
       "      <td>20.0</td>\n",
       "      <td>Regular customer</td>\n",
       "      <td>Female</td>\n",
       "      <td>Alabama</td>\n",
       "      <td>31</td>\n",
       "      <td>2/17/2019</td>\n",
       "      <td>3</td>\n",
       "      <td>married</td>\n",
       "      <td>40423</td>\n",
       "    </tr>\n",
       "    <tr>\n",
       "      <th>1</th>\n",
       "      <td>2398795</td>\n",
       "      <td>1</td>\n",
       "      <td>2</td>\n",
       "      <td>3</td>\n",
       "      <td>7</td>\n",
       "      <td>15.0</td>\n",
       "      <td>196</td>\n",
       "      <td>1</td>\n",
       "      <td>1</td>\n",
       "      <td>Soda</td>\n",
       "      <td>...</td>\n",
       "      <td>Low spender</td>\n",
       "      <td>20.0</td>\n",
       "      <td>Regular customer</td>\n",
       "      <td>Female</td>\n",
       "      <td>Alabama</td>\n",
       "      <td>31</td>\n",
       "      <td>2/17/2019</td>\n",
       "      <td>3</td>\n",
       "      <td>married</td>\n",
       "      <td>40423</td>\n",
       "    </tr>\n",
       "    <tr>\n",
       "      <th>2</th>\n",
       "      <td>473747</td>\n",
       "      <td>1</td>\n",
       "      <td>3</td>\n",
       "      <td>3</td>\n",
       "      <td>12</td>\n",
       "      <td>21.0</td>\n",
       "      <td>196</td>\n",
       "      <td>1</td>\n",
       "      <td>1</td>\n",
       "      <td>Soda</td>\n",
       "      <td>...</td>\n",
       "      <td>Low spender</td>\n",
       "      <td>20.0</td>\n",
       "      <td>Regular customer</td>\n",
       "      <td>Female</td>\n",
       "      <td>Alabama</td>\n",
       "      <td>31</td>\n",
       "      <td>2/17/2019</td>\n",
       "      <td>3</td>\n",
       "      <td>married</td>\n",
       "      <td>40423</td>\n",
       "    </tr>\n",
       "    <tr>\n",
       "      <th>3</th>\n",
       "      <td>2254736</td>\n",
       "      <td>1</td>\n",
       "      <td>4</td>\n",
       "      <td>4</td>\n",
       "      <td>7</td>\n",
       "      <td>29.0</td>\n",
       "      <td>196</td>\n",
       "      <td>1</td>\n",
       "      <td>1</td>\n",
       "      <td>Soda</td>\n",
       "      <td>...</td>\n",
       "      <td>Low spender</td>\n",
       "      <td>20.0</td>\n",
       "      <td>Regular customer</td>\n",
       "      <td>Female</td>\n",
       "      <td>Alabama</td>\n",
       "      <td>31</td>\n",
       "      <td>2/17/2019</td>\n",
       "      <td>3</td>\n",
       "      <td>married</td>\n",
       "      <td>40423</td>\n",
       "    </tr>\n",
       "    <tr>\n",
       "      <th>4</th>\n",
       "      <td>431534</td>\n",
       "      <td>1</td>\n",
       "      <td>5</td>\n",
       "      <td>4</td>\n",
       "      <td>15</td>\n",
       "      <td>28.0</td>\n",
       "      <td>196</td>\n",
       "      <td>1</td>\n",
       "      <td>1</td>\n",
       "      <td>Soda</td>\n",
       "      <td>...</td>\n",
       "      <td>Low spender</td>\n",
       "      <td>20.0</td>\n",
       "      <td>Regular customer</td>\n",
       "      <td>Female</td>\n",
       "      <td>Alabama</td>\n",
       "      <td>31</td>\n",
       "      <td>2/17/2019</td>\n",
       "      <td>3</td>\n",
       "      <td>married</td>\n",
       "      <td>40423</td>\n",
       "    </tr>\n",
       "  </tbody>\n",
       "</table>\n",
       "<p>5 rows × 30 columns</p>\n",
       "</div>"
      ],
      "text/plain": [
       "   order_id  user_id  order_number  order_day_of_week  order_hour_of_day  \\\n",
       "0   2539329        1             1                  2                  8   \n",
       "1   2398795        1             2                  3                  7   \n",
       "2    473747        1             3                  3                 12   \n",
       "3   2254736        1             4                  4                  7   \n",
       "4    431534        1             5                  4                 15   \n",
       "\n",
       "   days_since_prior_order  product_id  add_to_cart_order  reordered  \\\n",
       "0                     7.0         196                  1          0   \n",
       "1                    15.0         196                  1          1   \n",
       "2                    21.0         196                  1          1   \n",
       "3                    29.0         196                  1          1   \n",
       "4                    28.0         196                  1          1   \n",
       "\n",
       "  product_name  ...   spend_flag  frequent_orders     frequent_flag  gender  \\\n",
       "0         Soda  ...  Low spender             20.0  Regular customer  Female   \n",
       "1         Soda  ...  Low spender             20.0  Regular customer  Female   \n",
       "2         Soda  ...  Low spender             20.0  Regular customer  Female   \n",
       "3         Soda  ...  Low spender             20.0  Regular customer  Female   \n",
       "4         Soda  ...  Low spender             20.0  Regular customer  Female   \n",
       "\n",
       "     state age date_joined  number_dependents family_status  income  \n",
       "0  Alabama  31   2/17/2019                  3       married   40423  \n",
       "1  Alabama  31   2/17/2019                  3       married   40423  \n",
       "2  Alabama  31   2/17/2019                  3       married   40423  \n",
       "3  Alabama  31   2/17/2019                  3       married   40423  \n",
       "4  Alabama  31   2/17/2019                  3       married   40423  \n",
       "\n",
       "[5 rows x 30 columns]"
      ]
     },
     "execution_count": 5,
     "metadata": {},
     "output_type": "execute_result"
    }
   ],
   "source": [
    "df.head()"
   ]
  },
  {
   "cell_type": "code",
   "execution_count": 6,
   "id": "9e314bb7",
   "metadata": {
    "scrolled": true
   },
   "outputs": [
    {
     "data": {
      "text/plain": [
       "(32404859, 30)"
      ]
     },
     "execution_count": 6,
     "metadata": {},
     "output_type": "execute_result"
    }
   ],
   "source": [
    "df.shape"
   ]
  },
  {
   "cell_type": "markdown",
   "id": "995902a4",
   "metadata": {},
   "source": [
    "Note that I deleted the first name and surname variables during Exercise 4.9 due to PPI data ethical considerations."
   ]
  },
  {
   "cell_type": "markdown",
   "id": "a42a693b",
   "metadata": {},
   "source": [
    "## 04 Regional Considerations"
   ]
  },
  {
   "cell_type": "markdown",
   "id": "ff19a21b",
   "metadata": {},
   "source": [
    "Consider how region affects customer behavior, particularly in the variable 'spend_flag'. <br>\n",
    "Recall that the variable spend_flag takes the value 'High spender' if the average spending of the customer is greater than or equal to 10 and the value 'Low spender if the average spending of the customer is below 10. "
   ]
  },
  {
   "cell_type": "code",
   "execution_count": 7,
   "id": "7d7cb140",
   "metadata": {},
   "outputs": [],
   "source": [
    "# List of states in the Northeast\n",
    "Northeast_list = ['Maine', 'New Hampshire', 'Vermont', \n",
    "                  'Massachusetts', 'Rhode Island', 'Connecticut', \n",
    "                  'New York', 'Pennsylvania', 'New Jersey']"
   ]
  },
  {
   "cell_type": "code",
   "execution_count": 8,
   "id": "56b7c36c",
   "metadata": {},
   "outputs": [],
   "source": [
    "# List of states in the Midwest\n",
    "Midwest_list = ['Wisconsin', 'Michigan', 'Illinois',\n",
    "                'Indiana', 'Ohio', 'North Dakota',\n",
    "                'South Dakota', 'Nebraska', 'Kansas',\n",
    "                'Minnesota', 'Iowa', 'Missouri']"
   ]
  },
  {
   "cell_type": "code",
   "execution_count": 9,
   "id": "62790069",
   "metadata": {},
   "outputs": [],
   "source": [
    "# List of states in the South\n",
    "South_list = ['Delaware', 'Maryland', 'District of Columbia', \n",
    "              'Virginia', 'West Virginia', 'North Carolina', \n",
    "              'South Carolina', 'Georgia', 'Florida', \n",
    "              'Kentucky', 'Tennessee', 'Mississippi', 'Alabama', 'Oklahoma', 'Texas', 'Arkansas', 'Louisiana']"
   ]
  },
  {
   "cell_type": "code",
   "execution_count": 10,
   "id": "58e19e75",
   "metadata": {},
   "outputs": [],
   "source": [
    "# List of states in the West\n",
    "West_list = ['Idaho', 'Montana', 'Wyoming', \n",
    "             'Nevada', 'Utah', 'Colorado', \n",
    "             'Arizona', 'New Mexico', 'Alaska', \n",
    "             'Washington', 'Oregon', 'California', 'Hawaii']"
   ]
  },
  {
   "cell_type": "code",
   "execution_count": 11,
   "id": "51102350",
   "metadata": {},
   "outputs": [],
   "source": [
    "# Search for Northeast states\n",
    "df.loc[df['state'].isin(Northeast_list),'region'] = \"Northeast\""
   ]
  },
  {
   "cell_type": "code",
   "execution_count": 12,
   "id": "73658a30",
   "metadata": {},
   "outputs": [],
   "source": [
    "# Search for Midwest states\n",
    "df.loc[df['state'].isin(Midwest_list),'region'] = \"Midwest\""
   ]
  },
  {
   "cell_type": "code",
   "execution_count": 13,
   "id": "7afa187f",
   "metadata": {},
   "outputs": [],
   "source": [
    "# Search for South states\n",
    "df.loc[df['state'].isin(South_list),'region'] = \"South\""
   ]
  },
  {
   "cell_type": "code",
   "execution_count": 14,
   "id": "7c5f1792",
   "metadata": {},
   "outputs": [],
   "source": [
    "# Search for West states\n",
    "df.loc[df['state'].isin(West_list),'region'] = \"West\""
   ]
  },
  {
   "cell_type": "code",
   "execution_count": 15,
   "id": "8412d548",
   "metadata": {},
   "outputs": [
    {
     "data": {
      "text/plain": [
       "South        10791885\n",
       "West          8292913\n",
       "Midwest       7597325\n",
       "Northeast     5722736\n",
       "Name: region, dtype: int64"
      ]
     },
     "execution_count": 15,
     "metadata": {},
     "output_type": "execute_result"
    }
   ],
   "source": [
    "# Check region variable\n",
    "df['region'].value_counts(dropna = False)"
   ]
  },
  {
   "cell_type": "code",
   "execution_count": 16,
   "id": "8d75d805",
   "metadata": {},
   "outputs": [
    {
     "data": {
      "text/plain": [
       "Low spender     32285131\n",
       "High spender      119728\n",
       "Name: spend_flag, dtype: int64"
      ]
     },
     "execution_count": 16,
     "metadata": {},
     "output_type": "execute_result"
    }
   ],
   "source": [
    "# Check spend_flag variable\n",
    "df['spend_flag'].value_counts(dropna = False)"
   ]
  },
  {
   "cell_type": "code",
   "execution_count": 18,
   "id": "d45f9c7d",
   "metadata": {},
   "outputs": [],
   "source": [
    "# Crosstab to compare\n",
    "crosstab = pd.crosstab(df['region'], df['spend_flag'], dropna = False)"
   ]
  },
  {
   "cell_type": "code",
   "execution_count": 19,
   "id": "91f5a256",
   "metadata": {},
   "outputs": [
    {
     "data": {
      "text/html": [
       "<div>\n",
       "<style scoped>\n",
       "    .dataframe tbody tr th:only-of-type {\n",
       "        vertical-align: middle;\n",
       "    }\n",
       "\n",
       "    .dataframe tbody tr th {\n",
       "        vertical-align: top;\n",
       "    }\n",
       "\n",
       "    .dataframe thead th {\n",
       "        text-align: right;\n",
       "    }\n",
       "</style>\n",
       "<table border=\"1\" class=\"dataframe\">\n",
       "  <thead>\n",
       "    <tr style=\"text-align: right;\">\n",
       "      <th>spend_flag</th>\n",
       "      <th>High spender</th>\n",
       "      <th>Low spender</th>\n",
       "    </tr>\n",
       "    <tr>\n",
       "      <th>region</th>\n",
       "      <th></th>\n",
       "      <th></th>\n",
       "    </tr>\n",
       "  </thead>\n",
       "  <tbody>\n",
       "    <tr>\n",
       "      <th>Midwest</th>\n",
       "      <td>29265</td>\n",
       "      <td>7568060</td>\n",
       "    </tr>\n",
       "    <tr>\n",
       "      <th>Northeast</th>\n",
       "      <td>18642</td>\n",
       "      <td>5704094</td>\n",
       "    </tr>\n",
       "    <tr>\n",
       "      <th>South</th>\n",
       "      <td>40579</td>\n",
       "      <td>10751306</td>\n",
       "    </tr>\n",
       "    <tr>\n",
       "      <th>West</th>\n",
       "      <td>31242</td>\n",
       "      <td>8261671</td>\n",
       "    </tr>\n",
       "  </tbody>\n",
       "</table>\n",
       "</div>"
      ],
      "text/plain": [
       "spend_flag  High spender  Low spender\n",
       "region                               \n",
       "Midwest            29265      7568060\n",
       "Northeast          18642      5704094\n",
       "South              40579     10751306\n",
       "West               31242      8261671"
      ]
     },
     "execution_count": 19,
     "metadata": {},
     "output_type": "execute_result"
    }
   ],
   "source": [
    "# This is a relatively small object, so print here\n",
    "crosstab"
   ]
  },
  {
   "cell_type": "markdown",
   "id": "7c6adbba",
   "metadata": {},
   "source": [
    "We are asking the question: \"How does region affect whether a customer is likely to be a high vs low spender?\" Without doing an indepth statistical analysis, the answer is \"not much\". The proportion of High spenders in each region is approximately 2% (2.05%, 1.89%, 1.94%, and 1.93%, respectively). This percentage is arrived at by dividing the number of high spenders by the total number of customers in each region. Nonetheless, the Midwest has the highest percentage of high spenders and the Northeast has the lowest percentage of high spenders."
   ]
  },
  {
   "cell_type": "markdown",
   "id": "9f5f3cc7",
   "metadata": {},
   "source": [
    "# 05 Exclusion Flag for Low Order Numbers"
   ]
  },
  {
   "cell_type": "markdown",
   "id": "76b6f50c",
   "metadata": {},
   "source": [
    "We aren't interested in customers who don’t generate much revenue for the app. Creating an exclusion flag for low-activity customers (customers with less than 5 orders) and exclude them from the data. "
   ]
  },
  {
   "cell_type": "code",
   "execution_count": 20,
   "id": "141327fe",
   "metadata": {},
   "outputs": [
    {
     "data": {
      "text/plain": [
       "Index(['order_id', 'user_id', 'order_number', 'order_day_of_week',\n",
       "       'order_hour_of_day', 'days_since_prior_order', 'product_id',\n",
       "       'add_to_cart_order', 'reordered', 'product_name', 'aisle_id',\n",
       "       'department_id', 'prices', 'price_range_loc', 'busiest_day',\n",
       "       'Busiest_days', 'busiest_period_of_day', 'max_order', 'loyalty_flag',\n",
       "       'average_spend', 'spend_flag', 'frequent_orders', 'frequent_flag',\n",
       "       'gender', 'state', 'age', 'date_joined', 'number_dependents',\n",
       "       'family_status', 'income', 'region'],\n",
       "      dtype='object')"
      ]
     },
     "execution_count": 20,
     "metadata": {},
     "output_type": "execute_result"
    }
   ],
   "source": [
    "df.columns"
   ]
  },
  {
   "cell_type": "code",
   "execution_count": 21,
   "id": "98154417",
   "metadata": {},
   "outputs": [
    {
     "data": {
      "text/plain": [
       "1           5\n",
       "2           6\n",
       "3      686741\n",
       "4      753543\n",
       "5      793140\n",
       "       ...   \n",
       "95      59877\n",
       "96      40453\n",
       "97      44949\n",
       "98      44587\n",
       "99    1171333\n",
       "Name: max_order, Length: 99, dtype: int64"
      ]
     },
     "execution_count": 21,
     "metadata": {},
     "output_type": "execute_result"
    }
   ],
   "source": [
    "df['max_order'].value_counts(dropna = False).sort_index()"
   ]
  },
  {
   "cell_type": "code",
   "execution_count": 22,
   "id": "a6b2e4a8",
   "metadata": {},
   "outputs": [],
   "source": [
    "# Create a flag column called low_activity_flag for customers whose max_order is less than 5. \n",
    "df.loc[df['max_order'] < 5, 'low_activity_flag'] = \"Low activity customer\""
   ]
  },
  {
   "cell_type": "code",
   "execution_count": 23,
   "id": "49201676",
   "metadata": {},
   "outputs": [
    {
     "data": {
      "text/plain": [
       "NaN                      30964564\n",
       "Low activity customer     1440295\n",
       "Name: low_activity_flag, dtype: int64"
      ]
     },
     "execution_count": 23,
     "metadata": {},
     "output_type": "execute_result"
    }
   ],
   "source": [
    "df['low_activity_flag'].value_counts(dropna = False)"
   ]
  },
  {
   "cell_type": "markdown",
   "id": "327fa38d",
   "metadata": {},
   "source": [
    "We need to pull the low activity customers out of the sample and export their data because we are about to delete them!"
   ]
  },
  {
   "cell_type": "code",
   "execution_count": 24,
   "id": "fa0f1751",
   "metadata": {},
   "outputs": [],
   "source": [
    "# Low activity customers pulled out of the bigger dataset\n",
    "df_low_activity_customers = df.loc[df['low_activity_flag'].isin(['Low activity customer'])]"
   ]
  },
  {
   "cell_type": "code",
   "execution_count": 25,
   "id": "50b00711",
   "metadata": {},
   "outputs": [
    {
     "data": {
      "text/html": [
       "<div>\n",
       "<style scoped>\n",
       "    .dataframe tbody tr th:only-of-type {\n",
       "        vertical-align: middle;\n",
       "    }\n",
       "\n",
       "    .dataframe tbody tr th {\n",
       "        vertical-align: top;\n",
       "    }\n",
       "\n",
       "    .dataframe thead th {\n",
       "        text-align: right;\n",
       "    }\n",
       "</style>\n",
       "<table border=\"1\" class=\"dataframe\">\n",
       "  <thead>\n",
       "    <tr style=\"text-align: right;\">\n",
       "      <th></th>\n",
       "      <th>order_id</th>\n",
       "      <th>user_id</th>\n",
       "      <th>order_number</th>\n",
       "      <th>order_day_of_week</th>\n",
       "      <th>order_hour_of_day</th>\n",
       "      <th>days_since_prior_order</th>\n",
       "      <th>product_id</th>\n",
       "      <th>add_to_cart_order</th>\n",
       "      <th>reordered</th>\n",
       "      <th>product_name</th>\n",
       "      <th>...</th>\n",
       "      <th>frequent_flag</th>\n",
       "      <th>gender</th>\n",
       "      <th>state</th>\n",
       "      <th>age</th>\n",
       "      <th>date_joined</th>\n",
       "      <th>number_dependents</th>\n",
       "      <th>family_status</th>\n",
       "      <th>income</th>\n",
       "      <th>region</th>\n",
       "      <th>low_activity_flag</th>\n",
       "    </tr>\n",
       "  </thead>\n",
       "  <tbody>\n",
       "    <tr>\n",
       "      <th>1510</th>\n",
       "      <td>520620</td>\n",
       "      <td>120</td>\n",
       "      <td>1</td>\n",
       "      <td>3</td>\n",
       "      <td>11</td>\n",
       "      <td>7.0</td>\n",
       "      <td>196</td>\n",
       "      <td>2</td>\n",
       "      <td>0</td>\n",
       "      <td>Soda</td>\n",
       "      <td>...</td>\n",
       "      <td>Regular customer</td>\n",
       "      <td>Female</td>\n",
       "      <td>Kentucky</td>\n",
       "      <td>54</td>\n",
       "      <td>3/2/2017</td>\n",
       "      <td>2</td>\n",
       "      <td>married</td>\n",
       "      <td>99219</td>\n",
       "      <td>South</td>\n",
       "      <td>Low activity customer</td>\n",
       "    </tr>\n",
       "    <tr>\n",
       "      <th>1511</th>\n",
       "      <td>3273029</td>\n",
       "      <td>120</td>\n",
       "      <td>3</td>\n",
       "      <td>2</td>\n",
       "      <td>8</td>\n",
       "      <td>19.0</td>\n",
       "      <td>196</td>\n",
       "      <td>2</td>\n",
       "      <td>1</td>\n",
       "      <td>Soda</td>\n",
       "      <td>...</td>\n",
       "      <td>Regular customer</td>\n",
       "      <td>Female</td>\n",
       "      <td>Kentucky</td>\n",
       "      <td>54</td>\n",
       "      <td>3/2/2017</td>\n",
       "      <td>2</td>\n",
       "      <td>married</td>\n",
       "      <td>99219</td>\n",
       "      <td>South</td>\n",
       "      <td>Low activity customer</td>\n",
       "    </tr>\n",
       "    <tr>\n",
       "      <th>1512</th>\n",
       "      <td>520620</td>\n",
       "      <td>120</td>\n",
       "      <td>1</td>\n",
       "      <td>3</td>\n",
       "      <td>11</td>\n",
       "      <td>7.0</td>\n",
       "      <td>46149</td>\n",
       "      <td>1</td>\n",
       "      <td>0</td>\n",
       "      <td>Zero Calorie Cola</td>\n",
       "      <td>...</td>\n",
       "      <td>Regular customer</td>\n",
       "      <td>Female</td>\n",
       "      <td>Kentucky</td>\n",
       "      <td>54</td>\n",
       "      <td>3/2/2017</td>\n",
       "      <td>2</td>\n",
       "      <td>married</td>\n",
       "      <td>99219</td>\n",
       "      <td>South</td>\n",
       "      <td>Low activity customer</td>\n",
       "    </tr>\n",
       "    <tr>\n",
       "      <th>1513</th>\n",
       "      <td>3273029</td>\n",
       "      <td>120</td>\n",
       "      <td>3</td>\n",
       "      <td>2</td>\n",
       "      <td>8</td>\n",
       "      <td>19.0</td>\n",
       "      <td>46149</td>\n",
       "      <td>1</td>\n",
       "      <td>1</td>\n",
       "      <td>Zero Calorie Cola</td>\n",
       "      <td>...</td>\n",
       "      <td>Regular customer</td>\n",
       "      <td>Female</td>\n",
       "      <td>Kentucky</td>\n",
       "      <td>54</td>\n",
       "      <td>3/2/2017</td>\n",
       "      <td>2</td>\n",
       "      <td>married</td>\n",
       "      <td>99219</td>\n",
       "      <td>South</td>\n",
       "      <td>Low activity customer</td>\n",
       "    </tr>\n",
       "    <tr>\n",
       "      <th>1514</th>\n",
       "      <td>520620</td>\n",
       "      <td>120</td>\n",
       "      <td>1</td>\n",
       "      <td>3</td>\n",
       "      <td>11</td>\n",
       "      <td>7.0</td>\n",
       "      <td>26348</td>\n",
       "      <td>3</td>\n",
       "      <td>0</td>\n",
       "      <td>Mixed Fruit Fruit Snacks</td>\n",
       "      <td>...</td>\n",
       "      <td>Regular customer</td>\n",
       "      <td>Female</td>\n",
       "      <td>Kentucky</td>\n",
       "      <td>54</td>\n",
       "      <td>3/2/2017</td>\n",
       "      <td>2</td>\n",
       "      <td>married</td>\n",
       "      <td>99219</td>\n",
       "      <td>South</td>\n",
       "      <td>Low activity customer</td>\n",
       "    </tr>\n",
       "  </tbody>\n",
       "</table>\n",
       "<p>5 rows × 32 columns</p>\n",
       "</div>"
      ],
      "text/plain": [
       "      order_id  user_id  order_number  order_day_of_week  order_hour_of_day  \\\n",
       "1510    520620      120             1                  3                 11   \n",
       "1511   3273029      120             3                  2                  8   \n",
       "1512    520620      120             1                  3                 11   \n",
       "1513   3273029      120             3                  2                  8   \n",
       "1514    520620      120             1                  3                 11   \n",
       "\n",
       "      days_since_prior_order  product_id  add_to_cart_order  reordered  \\\n",
       "1510                     7.0         196                  2          0   \n",
       "1511                    19.0         196                  2          1   \n",
       "1512                     7.0       46149                  1          0   \n",
       "1513                    19.0       46149                  1          1   \n",
       "1514                     7.0       26348                  3          0   \n",
       "\n",
       "                  product_name  ...     frequent_flag  gender     state age  \\\n",
       "1510                      Soda  ...  Regular customer  Female  Kentucky  54   \n",
       "1511                      Soda  ...  Regular customer  Female  Kentucky  54   \n",
       "1512         Zero Calorie Cola  ...  Regular customer  Female  Kentucky  54   \n",
       "1513         Zero Calorie Cola  ...  Regular customer  Female  Kentucky  54   \n",
       "1514  Mixed Fruit Fruit Snacks  ...  Regular customer  Female  Kentucky  54   \n",
       "\n",
       "     date_joined number_dependents family_status  income region  \\\n",
       "1510    3/2/2017                 2       married   99219  South   \n",
       "1511    3/2/2017                 2       married   99219  South   \n",
       "1512    3/2/2017                 2       married   99219  South   \n",
       "1513    3/2/2017                 2       married   99219  South   \n",
       "1514    3/2/2017                 2       married   99219  South   \n",
       "\n",
       "          low_activity_flag  \n",
       "1510  Low activity customer  \n",
       "1511  Low activity customer  \n",
       "1512  Low activity customer  \n",
       "1513  Low activity customer  \n",
       "1514  Low activity customer  \n",
       "\n",
       "[5 rows x 32 columns]"
      ]
     },
     "execution_count": 25,
     "metadata": {},
     "output_type": "execute_result"
    }
   ],
   "source": [
    "# check df_low_activity_customers\n",
    "df_low_activity_customers.head()"
   ]
  },
  {
   "cell_type": "code",
   "execution_count": 26,
   "id": "90e90a5b",
   "metadata": {},
   "outputs": [
    {
     "data": {
      "text/plain": [
       "4    753543\n",
       "3    686741\n",
       "2         6\n",
       "1         5\n",
       "Name: max_order, dtype: int64"
      ]
     },
     "execution_count": 26,
     "metadata": {},
     "output_type": "execute_result"
    }
   ],
   "source": [
    "# Check df_low_activity_customers\n",
    "df_low_activity_customers['max_order'].value_counts(dropna = False)"
   ]
  },
  {
   "cell_type": "code",
   "execution_count": 27,
   "id": "c9cad69b",
   "metadata": {},
   "outputs": [],
   "source": [
    "# Export df_low_activity_customers in pickle format\n",
    "df_low_activity_customers.to_pickle(os.path.join(path, '02 Data','Prepared Data', 'low_activity_customers.pkl'))"
   ]
  },
  {
   "cell_type": "code",
   "execution_count": 28,
   "id": "fd82c071",
   "metadata": {},
   "outputs": [],
   "source": [
    "# Update df dataframe to delete rows from low activity customers.\n",
    "df = df.loc[df['max_order'] > 4]"
   ]
  },
  {
   "cell_type": "code",
   "execution_count": 29,
   "id": "24bbf495",
   "metadata": {},
   "outputs": [
    {
     "data": {
      "text/plain": [
       "32404859"
      ]
     },
     "execution_count": 29,
     "metadata": {},
     "output_type": "execute_result"
    }
   ],
   "source": [
    "# Check sizes and hoping for 32404859\n",
    "len(df) + len(df_low_activity_customers)"
   ]
  },
  {
   "cell_type": "code",
   "execution_count": 30,
   "id": "aa76c726",
   "metadata": {
    "scrolled": false
   },
   "outputs": [
    {
     "data": {
      "text/plain": [
       "NaN    30964564\n",
       "Name: low_activity_flag, dtype: int64"
      ]
     },
     "execution_count": 30,
     "metadata": {},
     "output_type": "execute_result"
    }
   ],
   "source": [
    "# Checking df['low_activity_flag'], hoping for all Nan\n",
    "df['low_activity_flag'].value_counts(dropna = False)"
   ]
  },
  {
   "cell_type": "code",
   "execution_count": 31,
   "id": "2ff3529d",
   "metadata": {},
   "outputs": [],
   "source": [
    "# Export df without low activity customers.\n",
    "df.to_pickle(os.path.join(path, '02 Data','Prepared Data', 'high_activity_customers.pkl'))"
   ]
  }
 ],
 "metadata": {
  "kernelspec": {
   "display_name": "Python 3 (ipykernel)",
   "language": "python",
   "name": "python3"
  },
  "language_info": {
   "codemirror_mode": {
    "name": "ipython",
    "version": 3
   },
   "file_extension": ".py",
   "mimetype": "text/x-python",
   "name": "python",
   "nbconvert_exporter": "python",
   "pygments_lexer": "ipython3",
   "version": "3.10.9"
  }
 },
 "nbformat": 4,
 "nbformat_minor": 5
}
